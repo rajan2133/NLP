{
  "nbformat": 4,
  "nbformat_minor": 0,
  "metadata": {
    "colab": {
      "provenance": []
    },
    "kernelspec": {
      "name": "python3",
      "display_name": "Python 3"
    },
    "language_info": {
      "name": "python"
    }
  },
  "cells": [
    {
      "cell_type": "markdown",
      "source": [
        "##  Design, save, and load model for sentiment analysis using dataset from amazon shopping site.\n"
      ],
      "metadata": {
        "id": "RJ__25Naa3jb"
      }
    },
    {
      "cell_type": "code",
      "execution_count": null,
      "metadata": {
        "colab": {
          "base_uri": "https://localhost:8080/"
        },
        "id": "li9LkegHOhCB",
        "outputId": "c51749d5-2e5b-4a8b-abb1-a1e6dcaf94eb"
      },
      "outputs": [
        {
          "output_type": "stream",
          "name": "stdout",
          "text": [
            "Cloning into 'nlp_pract5'...\n",
            "remote: Enumerating objects: 3, done.\u001b[K\n",
            "remote: Counting objects: 100% (3/3), done.\u001b[K\n",
            "remote: Compressing objects: 100% (3/3), done.\u001b[K\n",
            "remote: Total 3 (delta 0), reused 0 (delta 0), pack-reused 0\u001b[K\n",
            "Unpacking objects: 100% (3/3), 22.69 KiB | 3.24 MiB/s, done.\n"
          ]
        }
      ],
      "source": [
        "!git clone https://github.com/mdt01/nlp_pract5.git"
      ]
    },
    {
      "cell_type": "code",
      "source": [
        "import pandas as pd\n",
        "df = pd.read_csv('/content/nlp_pract5/amazon_cells_labelled.txt', sep='\\t' ,header=None)\n",
        "print(df)"
      ],
      "metadata": {
        "colab": {
          "base_uri": "https://localhost:8080/"
        },
        "id": "Gt6cWYHRQLft",
        "outputId": "d872e08e-ca79-4d32-aa37-68fc8fd3bf5a"
      },
      "execution_count": null,
      "outputs": [
        {
          "output_type": "stream",
          "name": "stdout",
          "text": [
            "                                                     0  1\n",
            "0    So there is no way for me to plug it in here i...  0\n",
            "1                          Good case, Excellent value.  1\n",
            "2                               Great for the jawbone.  1\n",
            "3    Tied to charger for conversations lasting more...  0\n",
            "4                                    The mic is great.  1\n",
            "..                                                 ... ..\n",
            "995  The screen does get smudged easily because it ...  0\n",
            "996  What a piece of junk.. I lose more calls on th...  0\n",
            "997                       Item Does Not Match Picture.  0\n",
            "998  The only thing that disappoint me is the infra...  0\n",
            "999  You can not answer calls with the unit, never ...  0\n",
            "\n",
            "[1000 rows x 2 columns]\n"
          ]
        }
      ]
    },
    {
      "cell_type": "code",
      "source": [
        "x = df.iloc[:,0]\n",
        "y = df.iloc[:, -1]"
      ],
      "metadata": {
        "id": "d155j8H-SrJG"
      },
      "execution_count": null,
      "outputs": []
    },
    {
      "cell_type": "code",
      "source": [
        "x"
      ],
      "metadata": {
        "colab": {
          "base_uri": "https://localhost:8080/"
        },
        "id": "r4aheSWCVRhN",
        "outputId": "cbe4833f-b9fb-4430-9177-8fe1c7beb68b"
      },
      "execution_count": null,
      "outputs": [
        {
          "output_type": "execute_result",
          "data": {
            "text/plain": [
              "0      So there is no way for me to plug it in here i...\n",
              "1                            Good case, Excellent value.\n",
              "2                                 Great for the jawbone.\n",
              "3      Tied to charger for conversations lasting more...\n",
              "4                                      The mic is great.\n",
              "                             ...                        \n",
              "995    The screen does get smudged easily because it ...\n",
              "996    What a piece of junk.. I lose more calls on th...\n",
              "997                         Item Does Not Match Picture.\n",
              "998    The only thing that disappoint me is the infra...\n",
              "999    You can not answer calls with the unit, never ...\n",
              "Name: 0, Length: 1000, dtype: object"
            ]
          },
          "metadata": {},
          "execution_count": 39
        }
      ]
    },
    {
      "cell_type": "code",
      "source": [
        "y"
      ],
      "metadata": {
        "colab": {
          "base_uri": "https://localhost:8080/"
        },
        "id": "snqmPslSVhVt",
        "outputId": "241bd061-fcea-4161-cc95-48f97d05b175"
      },
      "execution_count": null,
      "outputs": [
        {
          "output_type": "execute_result",
          "data": {
            "text/plain": [
              "0      0\n",
              "1      1\n",
              "2      1\n",
              "3      0\n",
              "4      1\n",
              "      ..\n",
              "995    0\n",
              "996    0\n",
              "997    0\n",
              "998    0\n",
              "999    0\n",
              "Name: 1, Length: 1000, dtype: int64"
            ]
          },
          "metadata": {},
          "execution_count": 37
        }
      ]
    },
    {
      "cell_type": "code",
      "source": [
        "from sklearn.feature_extraction.text import CountVectorizer\n",
        "vectorizer = CountVectorizer()\n",
        "vectorizer.fit_transform(x)\n",
        "vector = vectorizer.transform(x)\n",
        "print(\"Encoded Document is:\")\n",
        "print(vector.toarray())"
      ],
      "metadata": {
        "colab": {
          "base_uri": "https://localhost:8080/"
        },
        "id": "QSLoFTVeTg-N",
        "outputId": "4c3d78ff-4893-4c97-c85e-85aa6b21d910"
      },
      "execution_count": null,
      "outputs": [
        {
          "output_type": "stream",
          "name": "stdout",
          "text": [
            "Encoded Document is:\n",
            "[[0 0 0 ... 0 0 0]\n",
            " [0 0 0 ... 0 0 0]\n",
            " [0 0 0 ... 0 0 0]\n",
            " ...\n",
            " [0 0 0 ... 0 0 0]\n",
            " [0 0 0 ... 0 0 0]\n",
            " [0 0 0 ... 0 0 0]]\n"
          ]
        }
      ]
    },
    {
      "cell_type": "code",
      "source": [
        "from sklearn.feature_extraction.text import TfidfVectorizer\n",
        "tfidf = TfidfVectorizer()\n",
        "\n",
        "bow_matrix_tfidf = tfidf.fit_transform(x)\n",
        "print(tfidf.get_feature_names())\n",
        "print(bow_matrix_tfidf.toarray())"
      ],
      "metadata": {
        "colab": {
          "base_uri": "https://localhost:8080/"
        },
        "id": "Edv2MLEqXLFB",
        "outputId": "78b5f953-8806-4705-f29b-4e1c3845a03e"
      },
      "execution_count": null,
      "outputs": [
        {
          "output_type": "stream",
          "name": "stdout",
          "text": [
            "['10', '100', '11', '12', '13', '15', '15g', '18', '20', '2000', '2005', '2160', '24', '2mp', '325', '350', '375', '3o', '42', '44', '45', '4s', '50', '5020', '510', '5320', '680', '700w', '8125', '8525', '8530', 'abhor', 'ability', 'able', 'abound', 'about', 'above', 'absolutel', 'absolutely', 'ac', 'accept', 'acceptable', 'access', 'accessable', 'accessing', 'accessory', 'accessoryone', 'accidentally', 'accompanied', 'according', 'activate', 'activated', 'activesync', 'actually', 'ad', 'adapter', 'adapters', 'add', 'addition', 'additional', 'address', 'adhesive', 'adorable', 'advertised', 'advise', 'after', 'again', 'against', 'aggravating', 'ago', 'alarm', 'all', 'allot', 'allow', 'allowing', 'allows', 'almost', 'alone', 'along', 'alot', 'also', 'although', 'aluminum', 'always', 'am', 'amazed', 'amazing', 'amazon', 'amp', 'ample', 'an', 'and', 'angeles', 'angle', 'another', 'answer', 'ant', 'antena', 'anti', 'any', 'anyone', 'anything', 'anyway', 'anywhere', 'apart', 'apartment', 'apparently', 'appealing', 'appearance', 'appears', 'applifies', 'appointments', 'are', 'area', 'arguing', 'armband', 'around', 'arrival', 'arrived', 'as', 'asia', 'ask', 'aspect', 'assumed', 'at', 'atleast', 'att', 'attacked', 'attractive', 'audio', 'authentic', 'auto', 'available', 'average', 'avoid', 'avoiding', 'away', 'awesome', 'awful', 'awkward', 'awsome', 'back', 'background', 'backlight', 'bad', 'balance', 'bar', 'barely', 'bargain', 'bars', 'basement', 'basic', 'basically', 'batteries', 'battery', 'be', 'beat', 'beats', 'beautiful', 'because', 'bed', 'been', 'beep', 'beeping', 'before', 'behing', 'being', 'believe', 'bells', 'below', 'belt', 'bend', 'best', 'better', 'between', 'beware', 'big', 'biggest', 'bills', 'bit', 'bitpim', 'black', 'blackberry', 'blacktop', 'bland', 'blew', 'blue', 'blueant', 'bluetoooth', 'bluetooth', 'bluetooths', 'bmw', 'book', 'booking', 'boost', 'boot', 'bose', 'both', 'bother', 'bottom', 'bottowm', 'bought', 'bougth', 'boy', 'brand', 'break', 'breakage', 'breaking', 'breaks', 'brilliant', 'broke', 'broken', 'browser', 'browsing', 'bt', 'bt250v', 'bt50', 'bubbling', 'bucks', 'buds', 'build', 'built', 'bulky', 'bumpers', 'but', 'button', 'buttons', 'buy', 'buyer', 'buyers', 'buying', 'buyit', 'buzzing', 'by', 'ca', 'cable', 'cables', 'calendar', 'call', 'called', 'calls', 'came', 'camera', 'can', 'canal', 'cancellation', 'cancelling', 'cannot', 'cant', 'capability', 'capacity', 'car', 'card', 'care', 'careful', 'carried', 'carriers', 'carries', 'carry', 'case', 'cases', 'casing', 'cassette', 'cat', 'catching', 'caused', 'causing', 'cbr', 'cds', 'cell', 'cellphone', 'cellphones', 'cellular', 'cent', 'center', 'certain', 'certainly', 'changing', 'channel', 'charge', 'charged', 'charger', 'chargers', 'charges', 'charging', 'charm', 'cheap', 'cheaper', 'cheaply', 'cheapy', 'check', 'checked', 'child', 'china', 'chinese', 'choice', 'choices', 'christmas', 'cingulair', 'cingular', 'clarity', 'classy', 'clear', 'clearer', 'clearly', 'clever', 'clicks', 'clip', 'clipping', 'clips', 'clock', 'colleague', 'color', 'colored', 'colors', 'combination', 'come', 'comes', 'comfort', 'comfortable', 'comfortably', 'comfortible', 'coming', 'comments', 'commercials', 'communicate', 'communication', 'communications', 'commuter', 'company', 'comparably', 'compared', 'compete', 'competitors', 'complain', 'complained', 'complaint', 'complaints', 'completely', 'compliments', 'compromise', 'computer', 'concrete', 'conditions', 'confortable', 'confusing', 'connect', 'connected', 'connecting', 'connection', 'constantly', 'constructed', 'construction', 'consumer', 'contact', 'contacted', 'contacting', 'contacts', 'continue', 'continues', 'contract', 'control', 'controls', 'contstruct', 'convenient', 'conversation', 'conversations', 'converter', 'cool', 'copier', 'copy', 'corded', 'correctly', 'cost', 'costs', 'could', 'couldn', 'couldnt', 'counter', 'counterfeit', 'couple', 'coupon', 'course', 'cover', 'coverage', 'covered', 'crack', 'cracked', 'cradle', 'cradles', 'crap', 'crappy', 'crashed', 'crawl', 'creaks', 'crisp', 'cumbersome', 'current', 'currently', 'curve', 'customer', 'cut', 'cute', 'cutouts', 'cuts', 'd807', 'damage', 'darn', 'data', 'date', 'day', 'days', 'dead', 'deaf', 'deal', 'decade', 'decent', 'decision', 'defeats', 'defect', 'defective', 'deffinitely', 'definitely', 'definitly', 'delay', 'delivery', 'describe', 'described', 'description', 'design', 'designed', 'designs', 'despite', 'destination', 'destroying', 'detachable', 'detailed', 'development', 'device', 'devices', 'dialing', 'did', 'didn', 'died', 'dieing', 'different', 'difficult', 'directed', 'directions', 'directly', 'dirty', 'disapoinment', 'disapointing', 'disappoint', 'disappointed', 'disappointing', 'disappointment', 'discarded', 'discomfort', 'disconnected', 'discount', 'disgusting', 'display', 'displeased', 'disposable', 'dissapointed', 'dissapointing', 'distorted', 'distracting', 'dit', 'division', 'dna', 'do', 'docking', 'does', 'doesn', 'doing', 'dollar', 'don', 'done', 'dont', 'double', 'down', 'download', 'downloading', 'dozen', 'dozens', 'drain', 'drained', 'drains', 'drawback', 'driving', 'drivng', 'droid', 'drop', 'dropped', 'dropping', 'drops', 'dual', 'due', 'durable', 'during', 'dustpan', 'dying', 'e2', 'e715', 'each', 'ear', 'earbud', 'earbuds', 'earbugs', 'eargels', 'earlier', 'earpad', 'earphone', 'earphones', 'earpiece', 'earpieces', 'ears', 'earset', 'ease', 'easier', 'easily', 'easy', 'echo', 'edge', 'effect', 'effective', 'effects', 'effort', 'either', 'electronics', 'elegant', 'else', 'elsewhere', 'embarassing', 'embarrassing', 'embedded', 'encourage', 'end', 'ended', 'ends', 'engineered', 'enjoy', 'enough', 'enter', 'entertainment', 'entire', 'env', 'equipment', 'era', 'ergonomic', 'ericson', 'ericsson', 'especially', 'essentially', 'etc', 'europe', 'even', 'eventually', 'ever', 'every', 'everyday', 'everyone', 'everything', 'everywhere', 'exactly', 'exceeds', 'excelent', 'excellent', 'excels', 'except', 'exceptional', 'excessive', 'exchange', 'exchanged', 'excited', 'exclaim', 'excrutiatingly', 'exercise', 'existing', 'expect', 'expectations', 'expected', 'expensive', 'experience', 'experienced', 'explain', 'extended', 'exterior', 'external', 'extra', 'extremely', 'eye', 'fabulous', 'face', 'faceplates', 'fact', 'factor', 'failed', 'fails', 'fairly', 'fall', 'falling', 'falls', 'family', 'fantastic', 'far', 'fast', 'faster', 'father', 'favorite', 'feature', 'features', 'fee', 'feel', 'feels', 'feet', 'felt', 'few', 'fi', 'figure', 'file', 'finally', 'find', 'finds', 'fine', 'fingers', 'finished', 'fire', 'first', 'fit', 'fits', 'five', 'fixes', 'flash', 'flaw', 'flawed', 'flawless', 'flawlessly', 'flaws', 'flimsy', 'flip', 'flipphones', 'fliptop', 'floor', 'floppy', 'flops', 'flush', 'fm', 'followed', 'fond', 'fooled', 'for', 'forced', 'forever', 'forgeries', 'forget', 'forgot', 'form', 'found', 'four', 'fourth', 'fraction', 'free', 'freedom', 'freeway', 'freezes', 'frequently4', 'frequentyly', 'friendly', 'friends', 'frog', 'from', 'front', 'frustration', 'fry', 'ft', 'fulfills', 'full', 'fully', 'fun', 'function', 'functional', 'functionality', 'functions', 'funny', 'gadget', 'gadgets', 'games', 'garbage', 'garbled', 'gave', 'geeky', 'gels', 'generally', 'gentle', 'genuine', 'get', 'gets', 'getting', 'gimmick', 'girl', 'give', 'given', 'giving', 'glad', 'glare', 'glasses', 'glove', 'glued', 'go', 'goes', 'going', 'gonna', 'good', 'good7', 'gosh', 'got', 'gotten', 'graphics', 'great', 'greater', 'grey', 'grip', 'grtting', 'guess', 'gx2', 'h500', 'had', 'hair', 'hand', 'handheld', 'hands', 'handset', 'handsfree', 'handy', 'happened', 'happening', 'happens', 'happier', 'happy', 'hard', 'hardly', 'has', 'hat', 'hate', 'hated', 'haul', 'have', 'haven', 'having', 'he', 'headbands', 'headphones', 'headset', 'headsets', 'hear', 'hearing', 'heavy', 'help', 'helpful', 'here', 'hey', 'high', 'highest', 'highly', 'highy', 'hinge', 'hit', 'hitch', 'hold', 'holder', 'holding', 'holds', 'holster', 'home', 'hook', 'hoped', 'hoping', 'horrible', 'hot', 'hour', 'hours', 'hoursthe', 'house', 'how', 'however', 'hs850', 'huge', 'humans', 'humming', 'hundred', 'hurt', 'hybrid', 'hype', 'iam', 'idea', 'ideal', 'if', 'igo', 'ill', 'im', 'imac', 'images', 'imagine', 'immediately', 'important', 'impossible', 'impressed', 'impressive', 'improper', 'improve', 'improvement', 'in', 'inches', 'included', 'incoming', 'inconspicuous', 'increase', 'incrediable', 'incredible', 'incredibly', 'indoors', 'industrial', 'inexcusable', 'inexpensive', 'infatuated', 'inform', 'infra', 'infuriating', 'insert', 'inside', 'install', 'installed', 'instance', 'instead', 'instruction', 'instructions', 'integrated', 'intended', 'interested', 'interface', 'intermittently', 'internet', 'into', 'invented', 'investment', 'iphone', 'ipod', 'ipods', 'ir', 'irda', 'iriver', 'is', 'isn', 'issues', 'it', 'item', 'items', 'its', 'jabra', 'jabra350', 'jack', 'jawbone', 'jerks', 'jiggle', 'job', 'joke', 'joy', 'juice', 'junk', 'just', 'jx', 'keen', 'keep', 'keeping', 'keeps', 'kept', 'key', 'keyboard', 'keypad', 'keypads', 'keys', 'killer', 'kind', 'kindle', 'kitchen', 'kits', 'knock', 'know', 'knows', 'krussel', 'l7c', 'lacking', 'land', 'lap', 'laptop', 'large', 'last', 'lasted', 'lasting', 'lasts', 'latch', 'lately', 'later', 'latest', 'laughing', 'leaf', 'leaks', 'learned', 'least', 'leather', 'left', 'lense', 'leopard', 'less', 'lesson', 'let', 'letting', 'lg', 'life', 'light', 'lightly', 'lights', 'lightweight', 'like', 'liked', 'likes', 'line', 'linked', 'linking', 'linksys', 'listener', 'listening', 'lit', 'literally', 'little', 'living', 'll', 'loads', 'lock', 'locked', 'locks', 'logitech', 'long', 'longer', 'look', 'looking', 'looks', 'loop', 'loops', 'loose', 'looses', 'los', 'lose', 'lost', 'lot', 'lots', 'loud', 'louder', 'loudest', 'loudspeaker', 'lousy', 'love', 'loved', 'loves', 'low', 'luck', 'machine', 'made', 'magical', 'magnetic', 'mail', 'mainly', 'maintain', 'maintains', 'major', 'majority', 'make', 'makes', 'making', 'managed', 'management', 'manual', 'manufacturer', 'many', 'mark', 'market', 'match', 'material', 'max', 'may', 'me', 'means', 'mechanism', 'media', 'mediocre', 'mega', 'megapixels', 'memory', 'mention', 'mentioned', 'menus', 'mere', 'mess', 'message', 'messages', 'messaging', 'messes', 'metal', 'metro', 'mic', 'microphone', 'microsoft', 'might', 'mind', 'mine', 'mini', 'mins', 'minute', 'minutes', 'misleading', 'missed', 'mistake', 'mobile', 'mode', 'model', 'modest', 'money', 'monkeys', 'month', 'months', 'more', 'morning', 'most', 'mostly', 'mother', 'moto', 'motor', 'motorola', 'motorolas', 'moving', 'mp3', 'mp3s', 'much', 'muddy', 'muffled', 'multiple', 'music', 'must', 'mute', 'my', 'nano', 'navigate', 'near', 'nearly', 'neat', 'need', 'needed', 'needless', 'needs', 'negatively', 'neither', 'network', 'never', 'new', 'next', 'ngage', 'nice', 'nicely', 'nicer', 'night', 'nightmare', 'no', 'noise', 'noises', 'nokia', 'none', 'normal', 'normally', 'not', 'note', 'noted', 'nothing', 'notice', 'noticed', 'now', 'number', 'numbers', 'numerous', 'nyc', 'obviously', 'occupied', 'odd', 'oem', 'of', 'off', 'offering', 'offers', 'official', 'oh', 'ok', 'old', 'on', 'once', 'one', 'ones', 'online', 'only', 'oozes', 'open', 'opens', 'operate', 'operates', 'optimal', 'option', 'options', 'or', 'order', 'ordered', 'ordering', 'orders', 'organizational', 'original', 'originally', 'os', 'other', 'others', 'otherwise', 'our', 'out', 'outgoing', 'outlet', 'outperform', 'outside', 'over', 'overall', 'overly', 'overnight', 'overnite', 'override', 'own', 'owned', 'owner', 'owning', 'pack', 'package', 'packaged', 'pad', 'pads', 'pain', 'painful', 'pair', 'paired', 'pairing', 'palm', 'palms', 'palmtop', 'pants', 'part', 'particular', 'party', 'passed', 'patient', 'pause', 'pay', 'pc', 'pcs', 'pda', 'peachy', 'peeling', 'penny', 'pens', 'people', 'perfect', 'perfectly', 'performance', 'performed', 'performing', 'perhaps', 'periodically', 'periods', 'person', 'petroleum', 'phone', 'phones', 'photo', 'pics', 'picture', 'pictures', 'piece', 'pitiful', 'pixel', 'place', 'placed', 'places', 'plan', 'planning', 'plans', 'plantronics', 'plantronincs', 'plastic', 'play', 'player', 'players', 'plays', 'pleasantly', 'please', 'pleased', 'pleather', 'plenty', 'plug', 'plugged', 'plugs', 'plus', 'pocket', 'pockets', 'point', 'poor', 'poorly', 'port', 'portable', 'portraits', 'possesed', 'possibility', 'posted', 'potentially', 'power', 'practical', 'practically', 'practice', 'preferably', 'premium', 'prettier', 'pretty', 'prevents', 'previous', 'price', 'priced', 'pricing', 'prime', 'print', 'probably', 'problem', 'problems', 'procedure', 'procedures', 'produce', 'product', 'products', 'program', 'promised', 'prompt', 'promptly', 'properly', 'pros', 'protected', 'protection', 'protective', 'protector', 'protects', 'provide', 'provided', 'provides', 'ps3', 'psyched', 'puff', 'pull', 'purcashed', 'purchase', 'purchased', 'purchases', 'purchasing', 'purpose', 'push', 'pushed', 'put', 'quality', 'quick', 'quickly', 'quiet', 'quit', 'quite', 'qwerty', 'r450', 'randomly', 'range', 'rare', 'rate', 'rated', 'rather', 'rating', 'razor', 'razr', 're', 'reach', 'reaching', 'read', 'reading', 'ready', 'real', 'realize', 'really', 'reason', 'reasonable', 'reasonably', 'reboots', 'reccomendation', 'reccommend', 'receipt', 'receive', 'received', 'receiving', 'recently', 'reception', 'recessed', 'recharge', 'recieve', 'recognition', 'recognizes', 'recommend', 'recommended', 'red', 'refund', 'refurb', 'refuse', 'refused', 'regarding', 'regret', 'regretted', 'relative', 'relatively', 'reliability', 'remorse', 'removing', 'renders', 'reoccure', 'replace', 'replaced', 'replacement', 'replacementr', 'requirements', 'research', 'resistant', 'resolution', 'respect', 'rest', 'restart', 'restocking', 'restored', 'rests', 'results', 'return', 'returned', 'returning', 'reverse', 'reversible', 'review', 'reviews', 'ride', 'right', 'riingtones', 'ring', 'ringer', 'ringing', 'ringtones', 'rip', 'ripped', 'risk', 'roam', 'rocketed', 'rocks', 'roles', 'room', 'rotating', 'row', 'rubber', 'run', 'runs', 's11', 's710a', 'saggy', 'said', 'same', 'samsung', 'sanyo', 'satisfied', 'satisifed', 'save', 'saved', 'say', 'saying', 'says', 'scary', 'sch', 'scratch', 'scratched', 'screen', 'screens', 'seamlessly', 'searched', 'seat', 'seconds', 'secure', 'securely', 'securly', 'see', 'seeen', 'seem', 'seemed', 'seems', 'seen', 'self', 'seller', 'send', 'sending', 'sensitive', 'sensor', 'sent', 'seperated', 'series', 'seriously', 'service', 'set', 'setting', 'setup', 'several', 'severe', 'sex', 'shape', 'share', 'sharp', 'she', 'shield', 'shifting', 'shine', 'shiny', 'shipment', 'shipped', 'shipping', 'shooters', 'short', 'shots', 'should', 'shouldn', 'shouldve', 'shouting', 'show', 'shows', 'side', 'sides', 'sight', 'signal', 'signals', 'significantly', 'signs', 'sim', 'simple', 'simpler', 'simply', 'since', 'sins', 'sister', 'sitting', 'situations', 'size', 'sizes', 'sketchy', 'skip', 'skype', 'sleek', 'slid', 'slide', 'slider', 'sliding', 'slim', 'slipping', 'slow', 'slowly', 'small', 'smallest', 'smartphone', 'smell', 'smoke', 'smoking', 'smoother', 'smoothly', 'smudged', 'snap', 'snug', 'so', 'soft', 'software', 'sold', 'solid', 'some', 'somehow', 'someone', 'something', 'sometimes', 'somewhat', 'somewhere', 'son', 'songs', 'sony', 'soon', 'sooner', 'sorry', 'sos', 'sound', 'sounded', 'sounds', 'source', 'sources', 'soyo', 'span', 'speaker', 'speakerphone', 'specially', 'specs', 'speed', 'spinn', 'spring', 'sprint', 'stand', 'standard', 'star', 'stars', 'startac', 'started', 'starter', 'starts', 'state', 'stated', 'static', 'station', 'stay', 'stays', 'steep', 'steer', 'stereo', 'still', 'stop', 'stopped', 'stops', 'storage', 'store', 'strange', 'strap', 'stream', 'strength', 'stress', 'strip', 'strong', 'stuck', 'study', 'stuff', 'stupid', 'sturdiness', 'sturdy', 'styles', 'styling', 'stylish', 'submerged', 'such', 'sucked', 'sucks', 'sudden', 'suddenly', 'sunglasses', 'super', 'superb', 'superfast', 'supertooth', 'support', 'supposedly', 'suprised', 'sure', 'surefire', 'surprised', 'survived', 'sweetest', 'switch', 'swivel', 'sync', 'synchronization', 'take', 'takes', 'talk', 'talking', 'tape', 'tech', 'technology', 'telephone', 'tell', 'terrible', 'texas', 'text', 'than', 'thank', 'thanks', 'that', 'thats', 'the', 'their', 'them', 'then', 'theory', 'there', 'thereplacement', 'these', 'they', 'thin', 'thing', 'things', 'think', 'third', 'this', 'thorn', 'those', 'though', 'thought', 'three', 'threw', 'through', 'thru', 'thumbs', 'tick', 'ticking', 'tied', 'tight', 'time', 'timeframe', 'timely', 'times', 'tinny', 'tiny', 'tips', 'tmobile', 'to', 'toactivate', 'toast', 'today', 'together', 'toilet', 'told', 'tone', 'tones', 'too', 'took', 'tool', 'tools', 'tooth', 'top', 'total', 'totally', 'touch', 'touches', 'tracfone', 'tracfonewebsite', 'tracking', 'transceiver', 'transfer', 'transformed', 'transmission', 'transmit', 'transmitters', 'trash', 'travled', 'tremendous', 'treo', 'tricky', 'tried', 'tries', 'trouble', 'truly', 'trunk', 'trust', 'try', 'trying', 'tungsten', 'turn', 'turned', 'turns', 'tv', 'two', 'type', 'ugly', 'unacceptable', 'unacceptible', 'unbearable', 'uncomfortable', 'under', 'understand', 'understanding', 'unfortunately', 'unhappy', 'unintelligible', 'unit', 'units', 'unknown', 'unless', 'unlike', 'unreliable', 'unsatisfactory', 'until', 'unusable', 'up', 'upbeat', 'update', 'upgrade', 'upload', 'upstairs', 'us', 'usable', 'usage', 'usb', 'use', 'used', 'useful', 'usefulness', 'useless', 'user', 'using', 'usually', 'utter', 'utterly', 'v1', 'v265', 'v325i', 'v3c', 'v3i', 'value', 've', 'vehicle', 'verizon', 'very', 'via', 'video', 'videos', 'virgin', 'visor', 'voice', 'voltage', 'volume', 'vx', 'vx9900', 'w810i', 'waaay', 'waiting', 'wake', 'walked', 'walkman', 'wall', 'wallet', 'want', 'wanted', 'warning', 'warranty', 'was', 'wasn', 'waste', 'wasted', 'wasting', 'waterproof', 'way', 'we', 'weak', 'wear', 'wearing', 'web', 'website', 'websites', 'week', 'weeks', 'weight', 'weird', 'well', 'went', 'were', 'what', 'whatever', 'whatsoever', 'when', 'where', 'whether', 'which', 'while', 'whine', 'whistles', 'white', 'who', 'whoa', 'whole', 'whose', 'wi', 'wife', 'wild', 'will', 'wind', 'window', 'windows', 'winner', 'wiping', 'wire', 'wired', 'wirefly', 'wireless', 'wise', 'wish', 'wit', 'with', 'within', 'without', 'wobbly', 'won', 'wonder', 'wonderfully', 'wont', 'wood', 'wooden', 'word', 'work', 'worked', 'working', 'works', 'world', 'worn', 'worst', 'worth', 'worthless', 'worthwhile', 'would', 'wouldn', 'wow', 'wrong', 'wrongly', 'year', 'years', 'yell', 'yes', 'yet', 'you', 'your', 'z500a', 'zero']\n",
            "[[0. 0. 0. ... 0. 0. 0.]\n",
            " [0. 0. 0. ... 0. 0. 0.]\n",
            " [0. 0. 0. ... 0. 0. 0.]\n",
            " ...\n",
            " [0. 0. 0. ... 0. 0. 0.]\n",
            " [0. 0. 0. ... 0. 0. 0.]\n",
            " [0. 0. 0. ... 0. 0. 0.]]\n"
          ]
        },
        {
          "output_type": "stream",
          "name": "stderr",
          "text": [
            "/usr/local/lib/python3.8/dist-packages/sklearn/utils/deprecation.py:87: FutureWarning: Function get_feature_names is deprecated; get_feature_names is deprecated in 1.0 and will be removed in 1.2. Please use get_feature_names_out instead.\n",
            "  warnings.warn(msg, category=FutureWarning)\n"
          ]
        }
      ]
    },
    {
      "cell_type": "code",
      "source": [
        "from sklearn.model_selection import train_test_split\n",
        "X_train, X_test, y_train, y_test = train_test_split(X, y, test_size=0.33, random_state=42)"
      ],
      "metadata": {
        "id": "yXA-IzVLbwHI"
      },
      "execution_count": null,
      "outputs": []
    },
    {
      "cell_type": "code",
      "source": [
        "X_train"
      ],
      "metadata": {
        "colab": {
          "base_uri": "https://localhost:8080/"
        },
        "id": "VjsF_K8Vbztr",
        "outputId": "212a05bc-c929-478e-8dc6-3ea2750053a4"
      },
      "execution_count": null,
      "outputs": [
        {
          "output_type": "execute_result",
          "data": {
            "text/plain": [
              "703                          lightweight and works well.\n",
              "311                   The instruction manual is lacking.\n",
              "722    This is simply the BEST bluetooth headset for ...\n",
              "629    I recommend iGo to anyone with different brand...\n",
              "0      So there is no way for me to plug it in here i...\n",
              "                             ...                        \n",
              "106    That's a huge design flaw (unless I'm not usin...\n",
              "270    Not only will it drain your player, but may al...\n",
              "860                           Last time buying from you.\n",
              "435                                 Warning - Stay away.\n",
              "102                                Definitely a bargain.\n",
              "Name: 0, Length: 670, dtype: object"
            ]
          },
          "metadata": {},
          "execution_count": 46
        }
      ]
    },
    {
      "cell_type": "code",
      "source": [
        "y_train"
      ],
      "metadata": {
        "colab": {
          "base_uri": "https://localhost:8080/"
        },
        "id": "16yV6ulycg-c",
        "outputId": "9ecd769d-4ead-4816-e525-c01fb023233c"
      },
      "execution_count": null,
      "outputs": [
        {
          "output_type": "execute_result",
          "data": {
            "text/plain": [
              "703    1\n",
              "311    0\n",
              "722    1\n",
              "629    1\n",
              "0      0\n",
              "      ..\n",
              "106    0\n",
              "270    0\n",
              "860    0\n",
              "435    0\n",
              "102    1\n",
              "Name: 1, Length: 670, dtype: int64"
            ]
          },
          "metadata": {},
          "execution_count": 47
        }
      ]
    },
    {
      "cell_type": "code",
      "source": [
        "from sklearn.preprocessing import standardscaler\n",
        "scaler = standardscaler()\n",
        "X_train scaler.fit_transform(X_train)\n",
        "print(scaler.fit(df))\n",
        "StandardScaler()"
      ],
      "metadata": {
        "id": "1TLXNf8gcmcS"
      },
      "execution_count": null,
      "outputs": []
    },
    {
      "cell_type": "code",
      "source": [
        "from sklearn.preprocessing import standardscaler\n",
        "scaler = standardscaler()\n",
        "X_train scaler.fit_transform(X_train)"
      ],
      "metadata": {
        "id": "B7ZuiZMydzc_"
      },
      "execution_count": null,
      "outputs": []
    },
    {
      "cell_type": "code",
      "source": [
        "y_pred = knn.predict(X_test)"
      ],
      "metadata": {
        "id": "TXcbOAFWeQkd"
      },
      "execution_count": null,
      "outputs": []
    },
    {
      "cell_type": "code",
      "source": [
        "from sklearn.metrics import confusion_matrix\n",
        "cm = confusion_matrix(y_test, y_pred)"
      ],
      "metadata": {
        "id": "WFlDfV18eJNP"
      },
      "execution_count": null,
      "outputs": []
    },
    {
      "cell_type": "code",
      "source": [],
      "metadata": {
        "id": "wPXEM8DmeJXr"
      },
      "execution_count": null,
      "outputs": []
    },
    {
      "cell_type": "code",
      "source": [],
      "metadata": {
        "id": "y8zNicVEeSdT"
      },
      "execution_count": null,
      "outputs": []
    },
    {
      "cell_type": "code",
      "source": [],
      "metadata": {
        "id": "Zk7fUtM1eSf3"
      },
      "execution_count": null,
      "outputs": []
    }
  ]
}