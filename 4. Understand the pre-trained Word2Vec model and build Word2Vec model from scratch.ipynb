{
  "cells": [
    {
      "cell_type": "markdown",
      "metadata": {
        "id": "0MCEeYIJJWpX"
      },
      "source": [
        "\n",
        "#Understand the pre-trained Word2Vec model and build Word2Vec model from scratch\n",
        "\n"
      ]
    },
    {
      "cell_type": "markdown",
      "metadata": {
        "id": "0bdprSL0NXCh"
      },
      "source": [
        "## Word2Vec"
      ]
    },
    {
      "cell_type": "code",
      "execution_count": null,
      "metadata": {
        "id": "dKFirE-ZIooU"
      },
      "outputs": [],
      "source": [
        "from gensim.models import KeyedVectors\n",
        "from gensim.test.utils import datapath"
      ]
    },
    {
      "cell_type": "code",
      "execution_count": null,
      "metadata": {
        "id": "xUfclf4yNZq4"
      },
      "outputs": [],
      "source": [
        "kv = KeyedVectors.load_word2vec_format(datapath('/content/drive/MyDrive/Colab Notebooks/NLP/pr-4/GoogleNews-vectors-negative300.bin.gz'),binary = True)"
      ]
    },
    {
      "cell_type": "code",
      "execution_count": null,
      "metadata": {
        "colab": {
          "base_uri": "https://localhost:8080/"
        },
        "id": "bnvKcSgPPWCt",
        "outputId": "9a2e0417-afd8-4e61-e058-72e5409fcb26"
      },
      "outputs": [
        {
          "output_type": "stream",
          "name": "stderr",
          "text": [
            "<ipython-input-4-7b8e27b593d4>:1: DeprecationWarning: Call to deprecated `wv` (Attribute will be removed in 4.0.0, use self instead).\n",
            "  kv.wv.vocab\n"
          ]
        },
        {
          "output_type": "execute_result",
          "data": {
            "text/plain": [
              "{'</s>': <gensim.models.keyedvectors.Vocab at 0x7f383b0e1a60>,\n",
              " 'in': <gensim.models.keyedvectors.Vocab at 0x7f383b0e1ac0>,\n",
              " 'for': <gensim.models.keyedvectors.Vocab at 0x7f383b0e1b20>,\n",
              " 'that': <gensim.models.keyedvectors.Vocab at 0x7f383b0e1b80>,\n",
              " 'is': <gensim.models.keyedvectors.Vocab at 0x7f383b0e1be0>,\n",
              " 'on': <gensim.models.keyedvectors.Vocab at 0x7f383b0e1c40>,\n",
              " '##': <gensim.models.keyedvectors.Vocab at 0x7f383b0e1ca0>,\n",
              " 'The': <gensim.models.keyedvectors.Vocab at 0x7f383b0e1430>,\n",
              " 'with': <gensim.models.keyedvectors.Vocab at 0x7f383b0e1d60>,\n",
              " 'said': <gensim.models.keyedvectors.Vocab at 0x7f383b0e1dc0>,\n",
              " 'was': <gensim.models.keyedvectors.Vocab at 0x7f383b0e1df0>,\n",
              " 'the': <gensim.models.keyedvectors.Vocab at 0x7f383b0e1e50>,\n",
              " 'at': <gensim.models.keyedvectors.Vocab at 0x7f383b0e1eb0>,\n",
              " 'not': <gensim.models.keyedvectors.Vocab at 0x7f383b0e1f10>,\n",
              " 'as': <gensim.models.keyedvectors.Vocab at 0x7f383b0e1f70>,\n",
              " 'it': <gensim.models.keyedvectors.Vocab at 0x7f383b0e1fd0>,\n",
              " 'be': <gensim.models.keyedvectors.Vocab at 0x7f38657a7700>,\n",
              " 'from': <gensim.models.keyedvectors.Vocab at 0x7f38657a71c0>,\n",
              " 'by': <gensim.models.keyedvectors.Vocab at 0x7f38657a7610>,\n",
              " 'are': <gensim.models.keyedvectors.Vocab at 0x7f38657a7820>,\n",
              " 'I': <gensim.models.keyedvectors.Vocab at 0x7f38657a7520>,\n",
              " 'have': <gensim.models.keyedvectors.Vocab at 0x7f38657a72b0>,\n",
              " 'he': <gensim.models.keyedvectors.Vocab at 0x7f38657a7640>,\n",
              " 'will': <gensim.models.keyedvectors.Vocab at 0x7f383b0ed070>,\n",
              " 'has': <gensim.models.keyedvectors.Vocab at 0x7f383b0ed0d0>,\n",
              " '####': <gensim.models.keyedvectors.Vocab at 0x7f383b0ed130>,\n",
              " 'his': <gensim.models.keyedvectors.Vocab at 0x7f383b0ed190>,\n",
              " 'an': <gensim.models.keyedvectors.Vocab at 0x7f383b0ed1f0>,\n",
              " 'this': <gensim.models.keyedvectors.Vocab at 0x7f383b0ed250>,\n",
              " 'or': <gensim.models.keyedvectors.Vocab at 0x7f383b0ed2b0>,\n",
              " 'their': <gensim.models.keyedvectors.Vocab at 0x7f383b0ed310>,\n",
              " 'who': <gensim.models.keyedvectors.Vocab at 0x7f383b0ed370>,\n",
              " 'they': <gensim.models.keyedvectors.Vocab at 0x7f383b0ed3d0>,\n",
              " 'but': <gensim.models.keyedvectors.Vocab at 0x7f383b0ed430>,\n",
              " '$': <gensim.models.keyedvectors.Vocab at 0x7f383b0ed4c0>,\n",
              " 'had': <gensim.models.keyedvectors.Vocab at 0x7f383b0ed520>,\n",
              " 'year': <gensim.models.keyedvectors.Vocab at 0x7f383b0ed580>,\n",
              " 'were': <gensim.models.keyedvectors.Vocab at 0x7f383b0ed5e0>,\n",
              " 'we': <gensim.models.keyedvectors.Vocab at 0x7f383b0ed640>,\n",
              " 'more': <gensim.models.keyedvectors.Vocab at 0x7f383b0ed6a0>,\n",
              " '###': <gensim.models.keyedvectors.Vocab at 0x7f383b0ed700>,\n",
              " 'up': <gensim.models.keyedvectors.Vocab at 0x7f383b0ed790>,\n",
              " 'been': <gensim.models.keyedvectors.Vocab at 0x7f383b0ed7f0>,\n",
              " 'you': <gensim.models.keyedvectors.Vocab at 0x7f383b0ed850>,\n",
              " 'its': <gensim.models.keyedvectors.Vocab at 0x7f383b0ed8b0>,\n",
              " 'one': <gensim.models.keyedvectors.Vocab at 0x7f383b0ed910>,\n",
              " 'about': <gensim.models.keyedvectors.Vocab at 0x7f383b0ed970>,\n",
              " 'would': <gensim.models.keyedvectors.Vocab at 0x7f383b0ed9d0>,\n",
              " 'which': <gensim.models.keyedvectors.Vocab at 0x7f383b0eda30>,\n",
              " 'out': <gensim.models.keyedvectors.Vocab at 0x7f383b0eda90>,\n",
              " 'can': <gensim.models.keyedvectors.Vocab at 0x7f383b0edaf0>,\n",
              " 'It': <gensim.models.keyedvectors.Vocab at 0x7f383b0edb50>,\n",
              " 'all': <gensim.models.keyedvectors.Vocab at 0x7f383b0edbb0>,\n",
              " 'also': <gensim.models.keyedvectors.Vocab at 0x7f383b0edc10>,\n",
              " 'two': <gensim.models.keyedvectors.Vocab at 0x7f383b0edc70>,\n",
              " 'after': <gensim.models.keyedvectors.Vocab at 0x7f383b0edcd0>,\n",
              " 'first': <gensim.models.keyedvectors.Vocab at 0x7f383b0edd30>,\n",
              " 'He': <gensim.models.keyedvectors.Vocab at 0x7f383b0edd90>,\n",
              " 'do': <gensim.models.keyedvectors.Vocab at 0x7f383b0eddf0>,\n",
              " 'time': <gensim.models.keyedvectors.Vocab at 0x7f383b0ede50>,\n",
              " 'than': <gensim.models.keyedvectors.Vocab at 0x7f383b0edeb0>,\n",
              " 'when': <gensim.models.keyedvectors.Vocab at 0x7f383b0edf10>,\n",
              " 'We': <gensim.models.keyedvectors.Vocab at 0x7f383b0edfa0>,\n",
              " 'over': <gensim.models.keyedvectors.Vocab at 0x7f383b0ef040>,\n",
              " 'last': <gensim.models.keyedvectors.Vocab at 0x7f383b0ef0a0>,\n",
              " 'new': <gensim.models.keyedvectors.Vocab at 0x7f383b0ef100>,\n",
              " 'other': <gensim.models.keyedvectors.Vocab at 0x7f383b0ef160>,\n",
              " 'her': <gensim.models.keyedvectors.Vocab at 0x7f383b0ef1c0>,\n",
              " 'people': <gensim.models.keyedvectors.Vocab at 0x7f383b0ef220>,\n",
              " 'into': <gensim.models.keyedvectors.Vocab at 0x7f383b0ef280>,\n",
              " 'In': <gensim.models.keyedvectors.Vocab at 0x7f383b0ef2e0>,\n",
              " 'our': <gensim.models.keyedvectors.Vocab at 0x7f383b0ef340>,\n",
              " 'there': <gensim.models.keyedvectors.Vocab at 0x7f383b0ef3a0>,\n",
              " 'A': <gensim.models.keyedvectors.Vocab at 0x7f383b0ef430>,\n",
              " 'she': <gensim.models.keyedvectors.Vocab at 0x7f383b0ef490>,\n",
              " 'could': <gensim.models.keyedvectors.Vocab at 0x7f383b0ef4f0>,\n",
              " 'just': <gensim.models.keyedvectors.Vocab at 0x7f383b0ef580>,\n",
              " 'years': <gensim.models.keyedvectors.Vocab at 0x7f383b0ef5e0>,\n",
              " 'some': <gensim.models.keyedvectors.Vocab at 0x7f383b0ef640>,\n",
              " 'U.S.': <gensim.models.keyedvectors.Vocab at 0x7f383b0ef700>,\n",
              " 'three': <gensim.models.keyedvectors.Vocab at 0x7f383b0ef760>,\n",
              " 'million': <gensim.models.keyedvectors.Vocab at 0x7f383b0ef7c0>,\n",
              " 'them': <gensim.models.keyedvectors.Vocab at 0x7f383b0ef820>,\n",
              " 'what': <gensim.models.keyedvectors.Vocab at 0x7f383b0ef880>,\n",
              " 'But': <gensim.models.keyedvectors.Vocab at 0x7f383b0ef8e0>,\n",
              " 'so': <gensim.models.keyedvectors.Vocab at 0x7f383b0ef940>,\n",
              " 'no': <gensim.models.keyedvectors.Vocab at 0x7f383b0ef9a0>,\n",
              " 'like': <gensim.models.keyedvectors.Vocab at 0x7f383b0efa30>,\n",
              " 'if': <gensim.models.keyedvectors.Vocab at 0x7f383b0efa90>,\n",
              " 'only': <gensim.models.keyedvectors.Vocab at 0x7f383b0efaf0>,\n",
              " 'percent': <gensim.models.keyedvectors.Vocab at 0x7f383b0efb50>,\n",
              " 'get': <gensim.models.keyedvectors.Vocab at 0x7f383b0efbb0>,\n",
              " 'did': <gensim.models.keyedvectors.Vocab at 0x7f383b0efc10>,\n",
              " 'him': <gensim.models.keyedvectors.Vocab at 0x7f383b0efc70>,\n",
              " 'game': <gensim.models.keyedvectors.Vocab at 0x7f383b0efcd0>,\n",
              " 'back': <gensim.models.keyedvectors.Vocab at 0x7f383b0efd30>,\n",
              " 'because': <gensim.models.keyedvectors.Vocab at 0x7f383b0efd90>,\n",
              " 'now': <gensim.models.keyedvectors.Vocab at 0x7f383b0efdf0>,\n",
              " '#.#': <gensim.models.keyedvectors.Vocab at 0x7f383b0efe50>,\n",
              " 'before': <gensim.models.keyedvectors.Vocab at 0x7f383b0efeb0>,\n",
              " 'company': <gensim.models.keyedvectors.Vocab at 0x7f383b0eff10>,\n",
              " 'any': <gensim.models.keyedvectors.Vocab at 0x7f383b0eff70>,\n",
              " 'team': <gensim.models.keyedvectors.Vocab at 0x7f383b0effd0>,\n",
              " 'against': <gensim.models.keyedvectors.Vocab at 0x7f3764737070>,\n",
              " 'off': <gensim.models.keyedvectors.Vocab at 0x7f37647370d0>,\n",
              " 'This': <gensim.models.keyedvectors.Vocab at 0x7f3764737130>,\n",
              " 'most': <gensim.models.keyedvectors.Vocab at 0x7f3764737190>,\n",
              " 'made': <gensim.models.keyedvectors.Vocab at 0x7f37647371f0>,\n",
              " 'through': <gensim.models.keyedvectors.Vocab at 0x7f3764737250>,\n",
              " 'make': <gensim.models.keyedvectors.Vocab at 0x7f37647372b0>,\n",
              " 'second': <gensim.models.keyedvectors.Vocab at 0x7f3764737310>,\n",
              " 'state': <gensim.models.keyedvectors.Vocab at 0x7f3764737370>,\n",
              " 'well': <gensim.models.keyedvectors.Vocab at 0x7f37647373d0>,\n",
              " 'day': <gensim.models.keyedvectors.Vocab at 0x7f3764737430>,\n",
              " 'season': <gensim.models.keyedvectors.Vocab at 0x7f3764737490>,\n",
              " 'says': <gensim.models.keyedvectors.Vocab at 0x7f37647374f0>,\n",
              " 'week': <gensim.models.keyedvectors.Vocab at 0x7f3764737550>,\n",
              " 'where': <gensim.models.keyedvectors.Vocab at 0x7f37647375b0>,\n",
              " 'while': <gensim.models.keyedvectors.Vocab at 0x7f3764737610>,\n",
              " 'down': <gensim.models.keyedvectors.Vocab at 0x7f3764737670>,\n",
              " 'being': <gensim.models.keyedvectors.Vocab at 0x7f37647376d0>,\n",
              " 'government': <gensim.models.keyedvectors.Vocab at 0x7f3764737730>,\n",
              " 'your': <gensim.models.keyedvectors.Vocab at 0x7f3764737790>,\n",
              " '#-#': <gensim.models.keyedvectors.Vocab at 0x7f37647377f0>,\n",
              " 'home': <gensim.models.keyedvectors.Vocab at 0x7f3764737850>,\n",
              " 'going': <gensim.models.keyedvectors.Vocab at 0x7f37647378b0>,\n",
              " 'my': <gensim.models.keyedvectors.Vocab at 0x7f3764737910>,\n",
              " 'good': <gensim.models.keyedvectors.Vocab at 0x7f3764737970>,\n",
              " 'They': <gensim.models.keyedvectors.Vocab at 0x7f37647379d0>,\n",
              " \"'re\": <gensim.models.keyedvectors.Vocab at 0x7f3764737a60>,\n",
              " 'should': <gensim.models.keyedvectors.Vocab at 0x7f3764737ac0>,\n",
              " 'many': <gensim.models.keyedvectors.Vocab at 0x7f3764737b20>,\n",
              " 'way': <gensim.models.keyedvectors.Vocab at 0x7f3764737b80>,\n",
              " 'those': <gensim.models.keyedvectors.Vocab at 0x7f3764737be0>,\n",
              " 'four': <gensim.models.keyedvectors.Vocab at 0x7f3764737c40>,\n",
              " 'during': <gensim.models.keyedvectors.Vocab at 0x7f3764737ca0>,\n",
              " 'such': <gensim.models.keyedvectors.Vocab at 0x7f3764737d00>,\n",
              " 'may': <gensim.models.keyedvectors.Vocab at 0x7f3764737d60>,\n",
              " 'very': <gensim.models.keyedvectors.Vocab at 0x7f3764737dc0>,\n",
              " 'how': <gensim.models.keyedvectors.Vocab at 0x7f3764737e20>,\n",
              " 'since': <gensim.models.keyedvectors.Vocab at 0x7f3764737e80>,\n",
              " 'work': <gensim.models.keyedvectors.Vocab at 0x7f3764737ee0>,\n",
              " 'take': <gensim.models.keyedvectors.Vocab at 0x7f3764737f40>,\n",
              " 'including': <gensim.models.keyedvectors.Vocab at 0x7f3764737fa0>,\n",
              " 'high': <gensim.models.keyedvectors.Vocab at 0x7f3764739040>,\n",
              " 'then': <gensim.models.keyedvectors.Vocab at 0x7f37647390a0>,\n",
              " '%': <gensim.models.keyedvectors.Vocab at 0x7f3764739100>,\n",
              " 'next': <gensim.models.keyedvectors.Vocab at 0x7f3764739190>,\n",
              " '#,###': <gensim.models.keyedvectors.Vocab at 0x7f3764739220>,\n",
              " 'By': <gensim.models.keyedvectors.Vocab at 0x7f3764739280>,\n",
              " 'much': <gensim.models.keyedvectors.Vocab at 0x7f37647392e0>,\n",
              " 'still': <gensim.models.keyedvectors.Vocab at 0x7f3764739340>,\n",
              " 'go': <gensim.models.keyedvectors.Vocab at 0x7f37647393a0>,\n",
              " 'think': <gensim.models.keyedvectors.Vocab at 0x7f3764739400>,\n",
              " 'old': <gensim.models.keyedvectors.Vocab at 0x7f3764739460>,\n",
              " 'even': <gensim.models.keyedvectors.Vocab at 0x7f37647394c0>,\n",
              " '#.##': <gensim.models.keyedvectors.Vocab at 0x7f3764739520>,\n",
              " 'world': <gensim.models.keyedvectors.Vocab at 0x7f3764739580>,\n",
              " 'see': <gensim.models.keyedvectors.Vocab at 0x7f37647395e0>,\n",
              " 'say': <gensim.models.keyedvectors.Vocab at 0x7f3764739640>,\n",
              " 'business': <gensim.models.keyedvectors.Vocab at 0x7f37647396a0>,\n",
              " 'five': <gensim.models.keyedvectors.Vocab at 0x7f3764739700>,\n",
              " 'told': <gensim.models.keyedvectors.Vocab at 0x7f3764739760>,\n",
              " 'under': <gensim.models.keyedvectors.Vocab at 0x7f37647397c0>,\n",
              " 'us': <gensim.models.keyedvectors.Vocab at 0x7f3764739820>,\n",
              " '1': <gensim.models.keyedvectors.Vocab at 0x7f3764739880>,\n",
              " 'these': <gensim.models.keyedvectors.Vocab at 0x7f37647398e0>,\n",
              " 'If': <gensim.models.keyedvectors.Vocab at 0x7f3764739940>,\n",
              " 'right': <gensim.models.keyedvectors.Vocab at 0x7f37647399a0>,\n",
              " 'And': <gensim.models.keyedvectors.Vocab at 0x7f3764739a00>,\n",
              " 'me': <gensim.models.keyedvectors.Vocab at 0x7f3764739a60>,\n",
              " 'between': <gensim.models.keyedvectors.Vocab at 0x7f3764739ac0>,\n",
              " 'play': <gensim.models.keyedvectors.Vocab at 0x7f3764739b20>,\n",
              " 'help': <gensim.models.keyedvectors.Vocab at 0x7f3764739b80>,\n",
              " '##,###': <gensim.models.keyedvectors.Vocab at 0x7f3764739be0>,\n",
              " 'market': <gensim.models.keyedvectors.Vocab at 0x7f3764739c40>,\n",
              " 'That': <gensim.models.keyedvectors.Vocab at 0x7f3764739ca0>,\n",
              " 'know': <gensim.models.keyedvectors.Vocab at 0x7f3764739d00>,\n",
              " 'end': <gensim.models.keyedvectors.Vocab at 0x7f3764739d60>,\n",
              " 'AP': <gensim.models.keyedvectors.Vocab at 0x7f3764739dc0>,\n",
              " 'long': <gensim.models.keyedvectors.Vocab at 0x7f3764739e20>,\n",
              " 'information': <gensim.models.keyedvectors.Vocab at 0x7f3764739e80>,\n",
              " 'points': <gensim.models.keyedvectors.Vocab at 0x7f3764739ee0>,\n",
              " 'does': <gensim.models.keyedvectors.Vocab at 0x7f3764739f40>,\n",
              " 'both': <gensim.models.keyedvectors.Vocab at 0x7f3764739fa0>,\n",
              " 'There': <gensim.models.keyedvectors.Vocab at 0x7f376473c040>,\n",
              " 'part': <gensim.models.keyedvectors.Vocab at 0x7f376473c0a0>,\n",
              " 'around': <gensim.models.keyedvectors.Vocab at 0x7f376473c100>,\n",
              " 'police': <gensim.models.keyedvectors.Vocab at 0x7f376473c160>,\n",
              " 'want': <gensim.models.keyedvectors.Vocab at 0x7f376473c1c0>,\n",
              " \"'ve\": <gensim.models.keyedvectors.Vocab at 0x7f376473c220>,\n",
              " 'based': <gensim.models.keyedvectors.Vocab at 0x7f376473c280>,\n",
              " 'For': <gensim.models.keyedvectors.Vocab at 0x7f376473c310>,\n",
              " 'got': <gensim.models.keyedvectors.Vocab at 0x7f376473c370>,\n",
              " 'third': <gensim.models.keyedvectors.Vocab at 0x7f376473c3d0>,\n",
              " 'school': <gensim.models.keyedvectors.Vocab at 0x7f376473c430>,\n",
              " 'left': <gensim.models.keyedvectors.Vocab at 0x7f376473c490>,\n",
              " 'another': <gensim.models.keyedvectors.Vocab at 0x7f376473c4f0>,\n",
              " 'country': <gensim.models.keyedvectors.Vocab at 0x7f376473c550>,\n",
              " 'need': <gensim.models.keyedvectors.Vocab at 0x7f376473c5b0>,\n",
              " '2': <gensim.models.keyedvectors.Vocab at 0x7f376473c640>,\n",
              " 'best': <gensim.models.keyedvectors.Vocab at 0x7f376473c6a0>,\n",
              " 'win': <gensim.models.keyedvectors.Vocab at 0x7f376473c700>,\n",
              " 'quarter': <gensim.models.keyedvectors.Vocab at 0x7f376473c760>,\n",
              " 'use': <gensim.models.keyedvectors.Vocab at 0x7f376473c7c0>,\n",
              " 'today': <gensim.models.keyedvectors.Vocab at 0x7f376473c820>,\n",
              " '##.#': <gensim.models.keyedvectors.Vocab at 0x7f376473c880>,\n",
              " 'same': <gensim.models.keyedvectors.Vocab at 0x7f376473c8e0>,\n",
              " 'public': <gensim.models.keyedvectors.Vocab at 0x7f376473c940>,\n",
              " 'run': <gensim.models.keyedvectors.Vocab at 0x7f376473c9a0>,\n",
              " 'Friday': <gensim.models.keyedvectors.Vocab at 0x7f376473ca00>,\n",
              " 'set': <gensim.models.keyedvectors.Vocab at 0x7f376473ca60>,\n",
              " 'month': <gensim.models.keyedvectors.Vocab at 0x7f376473cac0>,\n",
              " 'top': <gensim.models.keyedvectors.Vocab at 0x7f376473cb20>,\n",
              " 'billion': <gensim.models.keyedvectors.Vocab at 0x7f376473cb80>,\n",
              " 'Tuesday': <gensim.models.keyedvectors.Vocab at 0x7f376473cbe0>,\n",
              " 'come': <gensim.models.keyedvectors.Vocab at 0x7f376473cc40>,\n",
              " 'Monday': <gensim.models.keyedvectors.Vocab at 0x7f376473cca0>,\n",
              " 'She': <gensim.models.keyedvectors.Vocab at 0x7f376473cd00>,\n",
              " 'city': <gensim.models.keyedvectors.Vocab at 0x7f376473cd60>,\n",
              " 'place': <gensim.models.keyedvectors.Vocab at 0x7f376473cdc0>,\n",
              " 'night': <gensim.models.keyedvectors.Vocab at 0x7f376473ce20>,\n",
              " 'six': <gensim.models.keyedvectors.Vocab at 0x7f376473ce80>,\n",
              " 'each': <gensim.models.keyedvectors.Vocab at 0x7f376473cee0>,\n",
              " 'Thursday': <gensim.models.keyedvectors.Vocab at 0x7f376473cf40>,\n",
              " '###,###': <gensim.models.keyedvectors.Vocab at 0x7f376473cfa0>,\n",
              " 'Wednesday': <gensim.models.keyedvectors.Vocab at 0x7f376473f040>,\n",
              " 'here': <gensim.models.keyedvectors.Vocab at 0x7f376473f0a0>,\n",
              " 'You': <gensim.models.keyedvectors.Vocab at 0x7f376473f130>,\n",
              " 'group': <gensim.models.keyedvectors.Vocab at 0x7f376473f190>,\n",
              " 'really': <gensim.models.keyedvectors.Vocab at 0x7f376473f1f0>,\n",
              " 'found': <gensim.models.keyedvectors.Vocab at 0x7f376473f250>,\n",
              " 'As': <gensim.models.keyedvectors.Vocab at 0x7f376473f2b0>,\n",
              " 'used': <gensim.models.keyedvectors.Vocab at 0x7f376473f310>,\n",
              " '3': <gensim.models.keyedvectors.Vocab at 0x7f376473f370>,\n",
              " 'lot': <gensim.models.keyedvectors.Vocab at 0x7f376473f3d0>,\n",
              " \"'m\": <gensim.models.keyedvectors.Vocab at 0x7f376473f430>,\n",
              " 'money': <gensim.models.keyedvectors.Vocab at 0x7f376473f490>,\n",
              " 'put': <gensim.models.keyedvectors.Vocab at 0x7f376473f4f0>,\n",
              " 'games': <gensim.models.keyedvectors.Vocab at 0x7f376473f550>,\n",
              " 'support': <gensim.models.keyedvectors.Vocab at 0x7f376473f5b0>,\n",
              " 'program': <gensim.models.keyedvectors.Vocab at 0x7f376473f610>,\n",
              " 'half': <gensim.models.keyedvectors.Vocab at 0x7f376473f670>,\n",
              " 'report': <gensim.models.keyedvectors.Vocab at 0x7f376473f6d0>,\n",
              " 'family': <gensim.models.keyedvectors.Vocab at 0x7f376473f730>,\n",
              " 'months': <gensim.models.keyedvectors.Vocab at 0x7f376473f790>,\n",
              " 'number': <gensim.models.keyedvectors.Vocab at 0x7f376473f7f0>,\n",
              " 'officials': <gensim.models.keyedvectors.Vocab at 0x7f376473f850>,\n",
              " 'am': <gensim.models.keyedvectors.Vocab at 0x7f376473f8b0>,\n",
              " 'former': <gensim.models.keyedvectors.Vocab at 0x7f376473f910>,\n",
              " 'own': <gensim.models.keyedvectors.Vocab at 0x7f376473f970>,\n",
              " 'man': <gensim.models.keyedvectors.Vocab at 0x7f376473f9d0>,\n",
              " 'Saturday': <gensim.models.keyedvectors.Vocab at 0x7f376473fa30>,\n",
              " 'too': <gensim.models.keyedvectors.Vocab at 0x7f376473fa90>,\n",
              " 'better': <gensim.models.keyedvectors.Vocab at 0x7f376473faf0>,\n",
              " 'days': <gensim.models.keyedvectors.Vocab at 0x7f376473fb50>,\n",
              " 'came': <gensim.models.keyedvectors.Vocab at 0x7f376473fbb0>,\n",
              " 'lead': <gensim.models.keyedvectors.Vocab at 0x7f376473fc10>,\n",
              " 'life': <gensim.models.keyedvectors.Vocab at 0x7f376473fc70>,\n",
              " 'American': <gensim.models.keyedvectors.Vocab at 0x7f376473fcd0>,\n",
              " '##-##': <gensim.models.keyedvectors.Vocab at 0x7f376473fd30>,\n",
              " 'show': <gensim.models.keyedvectors.Vocab at 0x7f376473fd90>,\n",
              " 'past': <gensim.models.keyedvectors.Vocab at 0x7f376473fdf0>,\n",
              " 'took': <gensim.models.keyedvectors.Vocab at 0x7f376473fe50>,\n",
              " 'added': <gensim.models.keyedvectors.Vocab at 0x7f376473feb0>,\n",
              " 'expected': <gensim.models.keyedvectors.Vocab at 0x7f376473ff10>,\n",
              " 'called': <gensim.models.keyedvectors.Vocab at 0x7f376473ff70>,\n",
              " 'great': <gensim.models.keyedvectors.Vocab at 0x7f376473ffd0>,\n",
              " 'State': <gensim.models.keyedvectors.Vocab at 0x7f3764742070>,\n",
              " 'services': <gensim.models.keyedvectors.Vocab at 0x7f37647420d0>,\n",
              " 'children': <gensim.models.keyedvectors.Vocab at 0x7f3764742130>,\n",
              " 'hit': <gensim.models.keyedvectors.Vocab at 0x7f3764742190>,\n",
              " 'area': <gensim.models.keyedvectors.Vocab at 0x7f37647421f0>,\n",
              " 'system': <gensim.models.keyedvectors.Vocab at 0x7f3764742250>,\n",
              " 'every': <gensim.models.keyedvectors.Vocab at 0x7f37647422b0>,\n",
              " 'pm': <gensim.models.keyedvectors.Vocab at 0x7f3764742310>,\n",
              " 'big': <gensim.models.keyedvectors.Vocab at 0x7f3764742370>,\n",
              " 'service': <gensim.models.keyedvectors.Vocab at 0x7f37647423d0>,\n",
              " 'few': <gensim.models.keyedvectors.Vocab at 0x7f3764742430>,\n",
              " 'per': <gensim.models.keyedvectors.Vocab at 0x7f3764742490>,\n",
              " 'members': <gensim.models.keyedvectors.Vocab at 0x7f37647424f0>,\n",
              " 'Sunday': <gensim.models.keyedvectors.Vocab at 0x7f3764742550>,\n",
              " 'early': <gensim.models.keyedvectors.Vocab at 0x7f37647425b0>,\n",
              " 'point': <gensim.models.keyedvectors.Vocab at 0x7f3764742610>,\n",
              " 'start': <gensim.models.keyedvectors.Vocab at 0x7f3764742670>,\n",
              " 'companies': <gensim.models.keyedvectors.Vocab at 0x7f37647426d0>,\n",
              " 'little': <gensim.models.keyedvectors.Vocab at 0x7f3764742730>,\n",
              " '&': <gensim.models.keyedvectors.Vocab at 0x7f37647427c0>,\n",
              " 'case': <gensim.models.keyedvectors.Vocab at 0x7f3764742820>,\n",
              " 'ago': <gensim.models.keyedvectors.Vocab at 0x7f3764742880>,\n",
              " 'local': <gensim.models.keyedvectors.Vocab at 0x7f37647428e0>,\n",
              " 'according': <gensim.models.keyedvectors.Vocab at 0x7f3764742940>,\n",
              " 'never': <gensim.models.keyedvectors.Vocab at 0x7f37647429a0>,\n",
              " '5': <gensim.models.keyedvectors.Vocab at 0x7f3764742a30>,\n",
              " 'without': <gensim.models.keyedvectors.Vocab at 0x7f3764742a90>,\n",
              " 'sales': <gensim.models.keyedvectors.Vocab at 0x7f3764742af0>,\n",
              " 'until': <gensim.models.keyedvectors.Vocab at 0x7f3764742b50>,\n",
              " 'went': <gensim.models.keyedvectors.Vocab at 0x7f3764742bb0>,\n",
              " 'players': <gensim.models.keyedvectors.Vocab at 0x7f3764742c10>,\n",
              " '##th': <gensim.models.keyedvectors.Vocab at 0x7f3764742c70>,\n",
              " 'New_York': <gensim.models.keyedvectors.Vocab at 0x7f3764742cd0>,\n",
              " 'won': <gensim.models.keyedvectors.Vocab at 0x7f3764742d30>,\n",
              " 'financial': <gensim.models.keyedvectors.Vocab at 0x7f3764742d90>,\n",
              " 'news': <gensim.models.keyedvectors.Vocab at 0x7f3764742df0>,\n",
              " '4': <gensim.models.keyedvectors.Vocab at 0x7f3764742e50>,\n",
              " 'When': <gensim.models.keyedvectors.Vocab at 0x7f3764742eb0>,\n",
              " 'share': <gensim.models.keyedvectors.Vocab at 0x7f3764742f10>,\n",
              " 'several': <gensim.models.keyedvectors.Vocab at 0x7f3764742f70>,\n",
              " 'free': <gensim.models.keyedvectors.Vocab at 0x7f3764742fd0>,\n",
              " 'away': <gensim.models.keyedvectors.Vocab at 0x7f3764744070>,\n",
              " '##.##': <gensim.models.keyedvectors.Vocab at 0x7f37647440d0>,\n",
              " 'already': <gensim.models.keyedvectors.Vocab at 0x7f3764744130>,\n",
              " 'On': <gensim.models.keyedvectors.Vocab at 0x7f3764744190>,\n",
              " 'industry': <gensim.models.keyedvectors.Vocab at 0x7f37647441f0>,\n",
              " \"'ll\": <gensim.models.keyedvectors.Vocab at 0x7f3764744250>,\n",
              " 'call': <gensim.models.keyedvectors.Vocab at 0x7f37647442b0>,\n",
              " 'With': <gensim.models.keyedvectors.Vocab at 0x7f3764744310>,\n",
              " 'students': <gensim.models.keyedvectors.Vocab at 0x7f3764744370>,\n",
              " 'line': <gensim.models.keyedvectors.Vocab at 0x7f37647443d0>,\n",
              " 'available': <gensim.models.keyedvectors.Vocab at 0x7f3764744430>,\n",
              " 'County': <gensim.models.keyedvectors.Vocab at 0x7f37647444c0>,\n",
              " 'making': <gensim.models.keyedvectors.Vocab at 0x7f3764744520>,\n",
              " 'held': <gensim.models.keyedvectors.Vocab at 0x7f3764744580>,\n",
              " 'final': <gensim.models.keyedvectors.Vocab at 0x7f37647445e0>,\n",
              " '#:##': <gensim.models.keyedvectors.Vocab at 0x7f3764744640>,\n",
              " 'power': <gensim.models.keyedvectors.Vocab at 0x7f37647446a0>,\n",
              " 'plan': <gensim.models.keyedvectors.Vocab at 0x7f3764744700>,\n",
              " 'might': <gensim.models.keyedvectors.Vocab at 0x7f3764744760>,\n",
              " 'least': <gensim.models.keyedvectors.Vocab at 0x7f37647447c0>,\n",
              " 'look': <gensim.models.keyedvectors.Vocab at 0x7f3764744820>,\n",
              " 'forward': <gensim.models.keyedvectors.Vocab at 0x7f3764744880>,\n",
              " 'give': <gensim.models.keyedvectors.Vocab at 0x7f37647448e0>,\n",
              " 'At': <gensim.models.keyedvectors.Vocab at 0x7f3764744940>,\n",
              " 'again': <gensim.models.keyedvectors.Vocab at 0x7f37647449a0>,\n",
              " 'later': <gensim.models.keyedvectors.Vocab at 0x7f3764744a00>,\n",
              " 'full': <gensim.models.keyedvectors.Vocab at 0x7f3764744a60>,\n",
              " 'must': <gensim.models.keyedvectors.Vocab at 0x7f3764744ac0>,\n",
              " 'things': <gensim.models.keyedvectors.Vocab at 0x7f3764744b20>,\n",
              " 'major': <gensim.models.keyedvectors.Vocab at 0x7f3764744b80>,\n",
              " 'community': <gensim.models.keyedvectors.Vocab at 0x7f3764744be0>,\n",
              " 'announced': <gensim.models.keyedvectors.Vocab at 0x7f3764744c40>,\n",
              " 'open': <gensim.models.keyedvectors.Vocab at 0x7f3764744ca0>,\n",
              " 'record': <gensim.models.keyedvectors.Vocab at 0x7f3764744d00>,\n",
              " 'reported': <gensim.models.keyedvectors.Vocab at 0x7f3764744d60>,\n",
              " 'court': <gensim.models.keyedvectors.Vocab at 0x7f3764744dc0>,\n",
              " 'working': <gensim.models.keyedvectors.Vocab at 0x7f3764744e20>,\n",
              " 'able': <gensim.models.keyedvectors.Vocab at 0x7f3764744e80>,\n",
              " 'something': <gensim.models.keyedvectors.Vocab at 0x7f3764744ee0>,\n",
              " 'president': <gensim.models.keyedvectors.Vocab at 0x7f3764744f40>,\n",
              " 'meeting': <gensim.models.keyedvectors.Vocab at 0x7f3764744fa0>,\n",
              " 'keep': <gensim.models.keyedvectors.Vocab at 0x7f3764747040>,\n",
              " 'March': <gensim.models.keyedvectors.Vocab at 0x7f37647470a0>,\n",
              " 'future': <gensim.models.keyedvectors.Vocab at 0x7f3764747100>,\n",
              " 'far': <gensim.models.keyedvectors.Vocab at 0x7f3764747160>,\n",
              " 'deal': <gensim.models.keyedvectors.Vocab at 0x7f37647471c0>,\n",
              " 'City': <gensim.models.keyedvectors.Vocab at 0x7f3764747220>,\n",
              " 'May': <gensim.models.keyedvectors.Vocab at 0x7f3764747280>,\n",
              " 'development': <gensim.models.keyedvectors.Vocab at 0x7f37647472e0>,\n",
              " 'University': <gensim.models.keyedvectors.Vocab at 0x7f3764747340>,\n",
              " 'find': <gensim.models.keyedvectors.Vocab at 0x7f37647473a0>,\n",
              " 'times': <gensim.models.keyedvectors.Vocab at 0x7f3764747400>,\n",
              " 'After': <gensim.models.keyedvectors.Vocab at 0x7f3764747460>,\n",
              " 'office': <gensim.models.keyedvectors.Vocab at 0x7f37647474c0>,\n",
              " 'led': <gensim.models.keyedvectors.Vocab at 0x7f3764747520>,\n",
              " 'among': <gensim.models.keyedvectors.Vocab at 0x7f3764747580>,\n",
              " 'June': <gensim.models.keyedvectors.Vocab at 0x7f3764747610>,\n",
              " 'increase': <gensim.models.keyedvectors.Vocab at 0x7f3764747670>,\n",
              " 'China': <gensim.models.keyedvectors.Vocab at 0x7f37647476d0>,\n",
              " 'John': <gensim.models.keyedvectors.Vocab at 0x7f3764747730>,\n",
              " 'whether': <gensim.models.keyedvectors.Vocab at 0x7f3764747790>,\n",
              " 'cost': <gensim.models.keyedvectors.Vocab at 0x7f37647477f0>,\n",
              " 'security': <gensim.models.keyedvectors.Vocab at 0x7f3764747850>,\n",
              " 'job': <gensim.models.keyedvectors.Vocab at 0x7f37647478b0>,\n",
              " 'less': <gensim.models.keyedvectors.Vocab at 0x7f3764747910>,\n",
              " 'head': <gensim.models.keyedvectors.Vocab at 0x7f3764747970>,\n",
              " 'seven': <gensim.models.keyedvectors.Vocab at 0x7f37647479d0>,\n",
              " 'growth': <gensim.models.keyedvectors.Vocab at 0x7f3764747a30>,\n",
              " 'lost': <gensim.models.keyedvectors.Vocab at 0x7f3764747a90>,\n",
              " 'pay': <gensim.models.keyedvectors.Vocab at 0x7f3764747af0>,\n",
              " 'looking': <gensim.models.keyedvectors.Vocab at 0x7f3764747b50>,\n",
              " 'provide': <gensim.models.keyedvectors.Vocab at 0x7f3764747bb0>,\n",
              " '6': <gensim.models.keyedvectors.Vocab at 0x7f3764747c10>,\n",
              " 'To': <gensim.models.keyedvectors.Vocab at 0x7f3764747c70>,\n",
              " 'plans': <gensim.models.keyedvectors.Vocab at 0x7f3764747cd0>,\n",
              " 'products': <gensim.models.keyedvectors.Vocab at 0x7f3764747d30>,\n",
              " 'car': <gensim.models.keyedvectors.Vocab at 0x7f3764747d90>,\n",
              " 'recent': <gensim.models.keyedvectors.Vocab at 0x7f3764747df0>,\n",
              " 'hard': <gensim.models.keyedvectors.Vocab at 0x7f3764747e50>,\n",
              " 'always': <gensim.models.keyedvectors.Vocab at 0x7f3764747eb0>,\n",
              " 'include': <gensim.models.keyedvectors.Vocab at 0x7f3764747f10>,\n",
              " 'women': <gensim.models.keyedvectors.Vocab at 0x7f3764747f70>,\n",
              " 'across': <gensim.models.keyedvectors.Vocab at 0x7f3764747fd0>,\n",
              " 'tax': <gensim.models.keyedvectors.Vocab at 0x7f376474b070>,\n",
              " 'water': <gensim.models.keyedvectors.Vocab at 0x7f376474b0d0>,\n",
              " 'April': <gensim.models.keyedvectors.Vocab at 0x7f376474b130>,\n",
              " 'continue': <gensim.models.keyedvectors.Vocab at 0x7f376474b190>,\n",
              " 'important': <gensim.models.keyedvectors.Vocab at 0x7f376474b1f0>,\n",
              " 'different': <gensim.models.keyedvectors.Vocab at 0x7f376474b250>,\n",
              " 'close': <gensim.models.keyedvectors.Vocab at 0x7f376474b2b0>,\n",
              " '7': <gensim.models.keyedvectors.Vocab at 0x7f376474b340>,\n",
              " 'One': <gensim.models.keyedvectors.Vocab at 0x7f376474b3a0>,\n",
              " 'late': <gensim.models.keyedvectors.Vocab at 0x7f376474b400>,\n",
              " 'decision': <gensim.models.keyedvectors.Vocab at 0x7f376474b460>,\n",
              " 'current': <gensim.models.keyedvectors.Vocab at 0x7f376474b4c0>,\n",
              " 'law': <gensim.models.keyedvectors.Vocab at 0x7f376474b520>,\n",
              " 'within': <gensim.models.keyedvectors.Vocab at 0x7f376474b580>,\n",
              " 'along': <gensim.models.keyedvectors.Vocab at 0x7f376474b5e0>,\n",
              " 'played': <gensim.models.keyedvectors.Vocab at 0x7f376474b640>,\n",
              " 'move': <gensim.models.keyedvectors.Vocab at 0x7f376474b6a0>,\n",
              " 'United_States': <gensim.models.keyedvectors.Vocab at 0x7f376474b700>,\n",
              " 'enough': <gensim.models.keyedvectors.Vocab at 0x7f376474b760>,\n",
              " 'become': <gensim.models.keyedvectors.Vocab at 0x7f376474b7c0>,\n",
              " 'side': <gensim.models.keyedvectors.Vocab at 0x7f376474b820>,\n",
              " 'national': <gensim.models.keyedvectors.Vocab at 0x7f376474b880>,\n",
              " 'Inc.': <gensim.models.keyedvectors.Vocab at 0x7f376474b8e0>,\n",
              " 'results': <gensim.models.keyedvectors.Vocab at 0x7f376474b940>,\n",
              " 'level': <gensim.models.keyedvectors.Vocab at 0x7f376474b9a0>,\n",
              " 'loss': <gensim.models.keyedvectors.Vocab at 0x7f376474ba00>,\n",
              " 'economic': <gensim.models.keyedvectors.Vocab at 0x7f376474ba60>,\n",
              " 'coach': <gensim.models.keyedvectors.Vocab at 0x7f376474bac0>,\n",
              " 'near': <gensim.models.keyedvectors.Vocab at 0x7f376474bb20>,\n",
              " 'getting': <gensim.models.keyedvectors.Vocab at 0x7f376474bb80>,\n",
              " 'price': <gensim.models.keyedvectors.Vocab at 0x7f376474bbe0>,\n",
              " 'Department': <gensim.models.keyedvectors.Vocab at 0x7f376474bc70>,\n",
              " 'event': <gensim.models.keyedvectors.Vocab at 0x7f376474bcd0>,\n",
              " 'fourth': <gensim.models.keyedvectors.Vocab at 0x7f376474bd30>,\n",
              " 'change': <gensim.models.keyedvectors.Vocab at 0x7f376474bd90>,\n",
              " 'All': <gensim.models.keyedvectors.Vocab at 0x7f376474bdf0>,\n",
              " 'small': <gensim.models.keyedvectors.Vocab at 0x7f376474be50>,\n",
              " 'board': <gensim.models.keyedvectors.Vocab at 0x7f376474beb0>,\n",
              " 'National': <gensim.models.keyedvectors.Vocab at 0x7f376474bf10>,\n",
              " 'So': <gensim.models.keyedvectors.Vocab at 0x7f376474bf70>,\n",
              " 'goal': <gensim.models.keyedvectors.Vocab at 0x7f376474bfd0>,\n",
              " 'taken': <gensim.models.keyedvectors.Vocab at 0x7f376474d070>,\n",
              " 'field': <gensim.models.keyedvectors.Vocab at 0x7f376474d0d0>,\n",
              " 'prices': <gensim.models.keyedvectors.Vocab at 0x7f376474d130>,\n",
              " 'weeks': <gensim.models.keyedvectors.Vocab at 0x7f376474d190>,\n",
              " 'men': <gensim.models.keyedvectors.Vocab at 0x7f376474d1f0>,\n",
              " 'asked': <gensim.models.keyedvectors.Vocab at 0x7f376474d250>,\n",
              " 'eight': <gensim.models.keyedvectors.Vocab at 0x7f376474d2b0>,\n",
              " 'data': <gensim.models.keyedvectors.Vocab at 0x7f376474d310>,\n",
              " 'shot': <gensim.models.keyedvectors.Vocab at 0x7f376474d370>,\n",
              " 'New': <gensim.models.keyedvectors.Vocab at 0x7f376474d3d0>,\n",
              " 'started': <gensim.models.keyedvectors.Vocab at 0x7f376474d430>,\n",
              " 'July': <gensim.models.keyedvectors.Vocab at 0x7f376474d490>,\n",
              " 'director': <gensim.models.keyedvectors.Vocab at 0x7f376474d4f0>,\n",
              " 'President': <gensim.models.keyedvectors.Vocab at 0x7f376474d550>,\n",
              " 'party': <gensim.models.keyedvectors.Vocab at 0x7f376474d5b0>,\n",
              " 'federal': <gensim.models.keyedvectors.Vocab at 0x7f376474d610>,\n",
              " 'done': <gensim.models.keyedvectors.Vocab at 0x7f376474d670>,\n",
              " 'political': <gensim.models.keyedvectors.Vocab at 0x7f376474d6d0>,\n",
              " 'minutes': <gensim.models.keyedvectors.Vocab at 0x7f376474d730>,\n",
              " 'taking': <gensim.models.keyedvectors.Vocab at 0x7f376474d790>,\n",
              " 'Company': <gensim.models.keyedvectors.Vocab at 0x7f376474d7f0>,\n",
              " 'technology': <gensim.models.keyedvectors.Vocab at 0x7f376474d850>,\n",
              " 'project': <gensim.models.keyedvectors.Vocab at 0x7f376474d8b0>,\n",
              " 'center': <gensim.models.keyedvectors.Vocab at 0x7f376474d910>,\n",
              " 'leading': <gensim.models.keyedvectors.Vocab at 0x7f376474d970>,\n",
              " 'issue': <gensim.models.keyedvectors.Vocab at 0x7f376474d9d0>,\n",
              " 'though': <gensim.models.keyedvectors.Vocab at 0x7f376474da30>,\n",
              " 'having': <gensim.models.keyedvectors.Vocab at 0x7f376474da90>,\n",
              " 'period': <gensim.models.keyedvectors.Vocab at 0x7f376474daf0>,\n",
              " 'likely': <gensim.models.keyedvectors.Vocab at 0x7f376474db50>,\n",
              " 'scored': <gensim.models.keyedvectors.Vocab at 0x7f376474dbb0>,\n",
              " '8': <gensim.models.keyedvectors.Vocab at 0x7f376474dc40>,\n",
              " 'strong': <gensim.models.keyedvectors.Vocab at 0x7f376474dca0>,\n",
              " 'series': <gensim.models.keyedvectors.Vocab at 0x7f376474dd00>,\n",
              " 'military': <gensim.models.keyedvectors.Vocab at 0x7f376474dd60>,\n",
              " 'seen': <gensim.models.keyedvectors.Vocab at 0x7f376474ddc0>,\n",
              " 'trying': <gensim.models.keyedvectors.Vocab at 0x7f376474de20>,\n",
              " 'What': <gensim.models.keyedvectors.Vocab at 0x7f376474de80>,\n",
              " 'coming': <gensim.models.keyedvectors.Vocab at 0x7f376474dee0>,\n",
              " 'process': <gensim.models.keyedvectors.Vocab at 0x7f376474df40>,\n",
              " 'building': <gensim.models.keyedvectors.Vocab at 0x7f376474dfa0>,\n",
              " 'behind': <gensim.models.keyedvectors.Vocab at 0x7f3764750040>,\n",
              " 'performance': <gensim.models.keyedvectors.Vocab at 0x7f37647500a0>,\n",
              " 'management': <gensim.models.keyedvectors.Vocab at 0x7f3764750100>,\n",
              " 'Iraq': <gensim.models.keyedvectors.Vocab at 0x7f3764750160>,\n",
              " 'saying': <gensim.models.keyedvectors.Vocab at 0x7f37647501c0>,\n",
              " 'earlier': <gensim.models.keyedvectors.Vocab at 0x7f3764750220>,\n",
              " 'believe': <gensim.models.keyedvectors.Vocab at 0x7f3764750280>,\n",
              " 'oil': <gensim.models.keyedvectors.Vocab at 0x7f37647502e0>,\n",
              " 'given': <gensim.models.keyedvectors.Vocab at 0x7f3764750340>,\n",
              " 'Police': <gensim.models.keyedvectors.Vocab at 0x7f37647503a0>,\n",
              " 'customers': <gensim.models.keyedvectors.Vocab at 0x7f3764750400>,\n",
              " 'due': <gensim.models.keyedvectors.Vocab at 0x7f3764750460>,\n",
              " 'following': <gensim.models.keyedvectors.Vocab at 0x7f37647504c0>,\n",
              " 'term': <gensim.models.keyedvectors.Vocab at 0x7f3764750520>,\n",
              " 'others': <gensim.models.keyedvectors.Vocab at 0x7f3764750580>,\n",
              " 'statement': <gensim.models.keyedvectors.Vocab at 0x7f37647505e0>,\n",
              " 'international': <gensim.models.keyedvectors.Vocab at 0x7f3764750640>,\n",
              " 'economy': <gensim.models.keyedvectors.Vocab at 0x7f37647506a0>,\n",
              " 'health': <gensim.models.keyedvectors.Vocab at 0x7f3764750700>,\n",
              " 'thing': <gensim.models.keyedvectors.Vocab at 0x7f3764750760>,\n",
              " 'Obama': <gensim.models.keyedvectors.Vocab at 0x7f37647507c0>,\n",
              " 'return': <gensim.models.keyedvectors.Vocab at 0x7f3764750820>,\n",
              " 'killed': <gensim.models.keyedvectors.Vocab at 0x7f3764750880>,\n",
              " 'Washington': <gensim.models.keyedvectors.Vocab at 0x7f37647508e0>,\n",
              " 'further': <gensim.models.keyedvectors.Vocab at 0x7f3764750940>,\n",
              " 'However': <gensim.models.keyedvectors.Vocab at 0x7f37647509a0>,\n",
              " 'doing': <gensim.models.keyedvectors.Vocab at 0x7f3764750a00>,\n",
              " 'face': <gensim.models.keyedvectors.Vocab at 0x7f3764750a60>,\n",
              " 'low': <gensim.models.keyedvectors.Vocab at 0x7f3764750ac0>,\n",
              " 'higher': <gensim.models.keyedvectors.Vocab at 0x7f3764750b20>,\n",
              " 'site': <gensim.models.keyedvectors.Vocab at 0x7f3764750b80>,\n",
              " 'once': <gensim.models.keyedvectors.Vocab at 0x7f3764750be0>,\n",
              " 'yet': <gensim.models.keyedvectors.Vocab at 0x7f3764750c40>,\n",
              " 'hours': <gensim.models.keyedvectors.Vocab at 0x7f3764750ca0>,\n",
              " 'America': <gensim.models.keyedvectors.Vocab at 0x7f3764750d00>,\n",
              " 'control': <gensim.models.keyedvectors.Vocab at 0x7f3764750d60>,\n",
              " 'received': <gensim.models.keyedvectors.Vocab at 0x7f3764750dc0>,\n",
              " 'rate': <gensim.models.keyedvectors.Vocab at 0x7f3764750e20>,\n",
              " 'career': <gensim.models.keyedvectors.Vocab at 0x7f3764750e80>,\n",
              " 'Bush': <gensim.models.keyedvectors.Vocab at 0x7f3764750ee0>,\n",
              " 'teams': <gensim.models.keyedvectors.Vocab at 0x7f3764750f40>,\n",
              " 'known': <gensim.models.keyedvectors.Vocab at 0x7f3764750fa0>,\n",
              " 'offer': <gensim.models.keyedvectors.Vocab at 0x7f3764754040>,\n",
              " 'race': <gensim.models.keyedvectors.Vocab at 0x7f37647540a0>,\n",
              " 'ever': <gensim.models.keyedvectors.Vocab at 0x7f3764754100>,\n",
              " 'experience': <gensim.models.keyedvectors.Vocab at 0x7f3764754160>,\n",
              " 'playing': <gensim.models.keyedvectors.Vocab at 0x7f37647541c0>,\n",
              " 'name': <gensim.models.keyedvectors.Vocab at 0x7f3764754220>,\n",
              " 'possible': <gensim.models.keyedvectors.Vocab at 0x7f3764754280>,\n",
              " 'countries': <gensim.models.keyedvectors.Vocab at 0x7f37647542e0>,\n",
              " 'Mr.': <gensim.models.keyedvectors.Vocab at 0x7f3764754340>,\n",
              " 'average': <gensim.models.keyedvectors.Vocab at 0x7f37647543a0>,\n",
              " 'together': <gensim.models.keyedvectors.Vocab at 0x7f3764754400>,\n",
              " 'using': <gensim.models.keyedvectors.Vocab at 0x7f3764754460>,\n",
              " '9': <gensim.models.keyedvectors.Vocab at 0x7f37647544f0>,\n",
              " 'cut': <gensim.models.keyedvectors.Vocab at 0x7f3764754550>,\n",
              " 'While': <gensim.models.keyedvectors.Vocab at 0x7f37647545b0>,\n",
              " 'total': <gensim.models.keyedvectors.Vocab at 0x7f3764754610>,\n",
              " 'round': <gensim.models.keyedvectors.Vocab at 0x7f3764754670>,\n",
              " 'young': <gensim.models.keyedvectors.Vocab at 0x7f37647546d0>,\n",
              " 'nearly': <gensim.models.keyedvectors.Vocab at 0x7f3764754730>,\n",
              " 'shares': <gensim.models.keyedvectors.Vocab at 0x7f3764754790>,\n",
              " 'member': <gensim.models.keyedvectors.Vocab at 0x7f37647547f0>,\n",
              " 'campaign': <gensim.models.keyedvectors.Vocab at 0x7f3764754850>,\n",
              " 'media': <gensim.models.keyedvectors.Vocab at 0x7f37647548b0>,\n",
              " 'needs': <gensim.models.keyedvectors.Vocab at 0x7f3764754910>,\n",
              " 'why': <gensim.models.keyedvectors.Vocab at 0x7f3764754970>,\n",
              " 'house': <gensim.models.keyedvectors.Vocab at 0x7f37647549d0>,\n",
              " 'issues': <gensim.models.keyedvectors.Vocab at 0x7f3764754a30>,\n",
              " 'costs': <gensim.models.keyedvectors.Vocab at 0x7f3764754a90>,\n",
              " 'fire': <gensim.models.keyedvectors.Vocab at 0x7f3764754af0>,\n",
              " '##-#': <gensim.models.keyedvectors.Vocab at 0x7f3764754b50>,\n",
              " 'victory': <gensim.models.keyedvectors.Vocab at 0x7f3764754bb0>,\n",
              " 'player': <gensim.models.keyedvectors.Vocab at 0x7f3764754c10>,\n",
              " 'began': <gensim.models.keyedvectors.Vocab at 0x7f3764754c70>,\n",
              " 'sure': <gensim.models.keyedvectors.Vocab at 0x7f3764754cd0>,\n",
              " 'story': <gensim.models.keyedvectors.Vocab at 0x7f3764754d30>,\n",
              " 'per_cent': <gensim.models.keyedvectors.Vocab at 0x7f3764754d90>,\n",
              " 'North': <gensim.models.keyedvectors.Vocab at 0x7f3764754df0>,\n",
              " 'His': <gensim.models.keyedvectors.Vocab at 0x7f3764754e50>,\n",
              " 'staff': <gensim.models.keyedvectors.Vocab at 0x7f3764754eb0>,\n",
              " 'order': <gensim.models.keyedvectors.Vocab at 0x7f3764754f10>,\n",
              " 'war': <gensim.models.keyedvectors.Vocab at 0x7f3764754f70>,\n",
              " 'large': <gensim.models.keyedvectors.Vocab at 0x7f3764754fd0>,\n",
              " 'interest': <gensim.models.keyedvectors.Vocab at 0x7f3764756070>,\n",
              " 'stock': <gensim.models.keyedvectors.Vocab at 0x7f37647560d0>,\n",
              " 'food': <gensim.models.keyedvectors.Vocab at 0x7f3764756130>,\n",
              " 'research': <gensim.models.keyedvectors.Vocab at 0x7f3764756190>,\n",
              " 'key': <gensim.models.keyedvectors.Vocab at 0x7f37647561f0>,\n",
              " 'India': <gensim.models.keyedvectors.Vocab at 0x7f3764756250>,\n",
              " 'South': <gensim.models.keyedvectors.Vocab at 0x7f37647562b0>,\n",
              " 'morning': <gensim.models.keyedvectors.Vocab at 0x7f3764756310>,\n",
              " 'conference': <gensim.models.keyedvectors.Vocab at 0x7f3764756370>,\n",
              " 'senior': <gensim.models.keyedvectors.Vocab at 0x7f37647563d0>,\n",
              " 'global': <gensim.models.keyedvectors.Vocab at 0x7f3764756430>,\n",
              " 'Center': <gensim.models.keyedvectors.Vocab at 0x7f3764756490>,\n",
              " 'death': <gensim.models.keyedvectors.Vocab at 0x7f37647564f0>,\n",
              " 'person': <gensim.models.keyedvectors.Vocab at 0x7f3764756550>,\n",
              " 'thought': <gensim.models.keyedvectors.Vocab at 0x7f37647565b0>,\n",
              " 'gave': <gensim.models.keyedvectors.Vocab at 0x7f3764756610>,\n",
              " 'feel': <gensim.models.keyedvectors.Vocab at 0x7f3764756670>,\n",
              " 'energy': <gensim.models.keyedvectors.Vocab at 0x7f37647566d0>,\n",
              " 'history': <gensim.models.keyedvectors.Vocab at 0x7f3764756730>,\n",
              " 'recently': <gensim.models.keyedvectors.Vocab at 0x7f3764756790>,\n",
              " 'largest': <gensim.models.keyedvectors.Vocab at 0x7f37647567f0>,\n",
              " 'No.': <gensim.models.keyedvectors.Vocab at 0x7f3764756850>,\n",
              " 'general': <gensim.models.keyedvectors.Vocab at 0x7f37647568b0>,\n",
              " 'official': <gensim.models.keyedvectors.Vocab at 0x7f3764756910>,\n",
              " 'released': <gensim.models.keyedvectors.Vocab at 0x7f3764756970>,\n",
              " 'wanted': <gensim.models.keyedvectors.Vocab at 0x7f37647569d0>,\n",
              " 'meet': <gensim.models.keyedvectors.Vocab at 0x7f3764756a30>,\n",
              " 'short': <gensim.models.keyedvectors.Vocab at 0x7f3764756a90>,\n",
              " 'outside': <gensim.models.keyedvectors.Vocab at 0x7f3764756af0>,\n",
              " 'running': <gensim.models.keyedvectors.Vocab at 0x7f3764756b50>,\n",
              " 'live': <gensim.models.keyedvectors.Vocab at 0x7f3764756bb0>,\n",
              " 'ball': <gensim.models.keyedvectors.Vocab at 0x7f3764756c10>,\n",
              " 'online': <gensim.models.keyedvectors.Vocab at 0x7f3764756c70>,\n",
              " 'real': <gensim.models.keyedvectors.Vocab at 0x7f3764756cd0>,\n",
              " 'position': <gensim.models.keyedvectors.Vocab at 0x7f3764756d30>,\n",
              " 'fact': <gensim.models.keyedvectors.Vocab at 0x7f3764756d90>,\n",
              " 'fell': <gensim.models.keyedvectors.Vocab at 0x7f3764756df0>,\n",
              " 'nine': <gensim.models.keyedvectors.Vocab at 0x7f3764756e50>,\n",
              " 'December': <gensim.models.keyedvectors.Vocab at 0x7f3764756eb0>,\n",
              " 'front': <gensim.models.keyedvectors.Vocab at 0x7f3764756f10>,\n",
              " 'action': <gensim.models.keyedvectors.Vocab at 0x7f3764756f70>,\n",
              " 'defense': <gensim.models.keyedvectors.Vocab at 0x7f3764756fd0>,\n",
              " 'problem': <gensim.models.keyedvectors.Vocab at 0x7f3764759070>,\n",
              " 'problems': <gensim.models.keyedvectors.Vocab at 0x7f37647590d0>,\n",
              " 'Mr': <gensim.models.keyedvectors.Vocab at 0x7f3764759130>,\n",
              " 'nation': <gensim.models.keyedvectors.Vocab at 0x7f3764759190>,\n",
              " 'needed': <gensim.models.keyedvectors.Vocab at 0x7f37647591f0>,\n",
              " 'special': <gensim.models.keyedvectors.Vocab at 0x7f3764759250>,\n",
              " 'January': <gensim.models.keyedvectors.Vocab at 0x7f37647592b0>,\n",
              " 'almost': <gensim.models.keyedvectors.Vocab at 0x7f3764759310>,\n",
              " 'chance': <gensim.models.keyedvectors.Vocab at 0x7f3764759370>,\n",
              " \"'d\": <gensim.models.keyedvectors.Vocab at 0x7f37647593d0>,\n",
              " 'result': <gensim.models.keyedvectors.Vocab at 0x7f3764759430>,\n",
              " 'West': <gensim.models.keyedvectors.Vocab at 0x7f3764759490>,\n",
              " 'September': <gensim.models.keyedvectors.Vocab at 0x7f37647594f0>,\n",
              " 'reports': <gensim.models.keyedvectors.Vocab at 0x7f3764759550>,\n",
              " 'leader': <gensim.models.keyedvectors.Vocab at 0x7f37647595b0>,\n",
              " 'investment': <gensim.models.keyedvectors.Vocab at 0x7f3764759610>,\n",
              " 'yesterday': <gensim.models.keyedvectors.Vocab at 0x7f3764759670>,\n",
              " 'Some': <gensim.models.keyedvectors.Vocab at 0x7f37647596d0>,\n",
              " 'leaders': <gensim.models.keyedvectors.Vocab at 0x7f3764759730>,\n",
              " 'ahead': <gensim.models.keyedvectors.Vocab at 0x7f3764759790>,\n",
              " 'production': <gensim.models.keyedvectors.Vocab at 0x7f37647597f0>,\n",
              " 'comes': <gensim.models.keyedvectors.Vocab at 0x7f3764759850>,\n",
              " 'No': <gensim.models.keyedvectors.Vocab at 0x7f37647598b0>,\n",
              " 'runs': <gensim.models.keyedvectors.Vocab at 0x7f3764759910>,\n",
              " 'match': <gensim.models.keyedvectors.Vocab at 0x7f3764759970>,\n",
              " 'role': <gensim.models.keyedvectors.Vocab at 0x7f37647599d0>,\n",
              " 'kind': <gensim.models.keyedvectors.Vocab at 0x7f3764759a30>,\n",
              " 'try': <gensim.models.keyedvectors.Vocab at 0x7f3764759a90>,\n",
              " 'ended': <gensim.models.keyedvectors.Vocab at 0x7f3764759af0>,\n",
              " 'risk': <gensim.models.keyedvectors.Vocab at 0x7f3764759b50>,\n",
              " 'areas': <gensim.models.keyedvectors.Vocab at 0x7f3764759bb0>,\n",
              " 'election': <gensim.models.keyedvectors.Vocab at 0x7f3764759c10>,\n",
              " 'workers': <gensim.models.keyedvectors.Vocab at 0x7f3764759c70>,\n",
              " 'visit': <gensim.models.keyedvectors.Vocab at 0x7f3764759cd0>,\n",
              " 'bring': <gensim.models.keyedvectors.Vocab at 0x7f3764759d30>,\n",
              " 'road': <gensim.models.keyedvectors.Vocab at 0x7f3764759d90>,\n",
              " 'music': <gensim.models.keyedvectors.Vocab at 0x7f3764759df0>,\n",
              " 'study': <gensim.models.keyedvectors.Vocab at 0x7f3764759e50>,\n",
              " 'makes': <gensim.models.keyedvectors.Vocab at 0x7f3764759eb0>,\n",
              " 'often': <gensim.models.keyedvectors.Vocab at 0x7f3764759f10>,\n",
              " 'release': <gensim.models.keyedvectors.Vocab at 0x7f3764759f70>,\n",
              " 'woman': <gensim.models.keyedvectors.Vocab at 0x7f3764759fd0>,\n",
              " 'vote': <gensim.models.keyedvectors.Vocab at 0x7f376475d070>,\n",
              " 'care': <gensim.models.keyedvectors.Vocab at 0x7f376475d0d0>,\n",
              " 'town': <gensim.models.keyedvectors.Vocab at 0x7f376475d130>,\n",
              " 'clear': <gensim.models.keyedvectors.Vocab at 0x7f376475d190>,\n",
              " 'comment': <gensim.models.keyedvectors.Vocab at 0x7f376475d1f0>,\n",
              " 'budget': <gensim.models.keyedvectors.Vocab at 0x7f376475d250>,\n",
              " 'potential': <gensim.models.keyedvectors.Vocab at 0x7f376475d2b0>,\n",
              " 'single': <gensim.models.keyedvectors.Vocab at 0x7f376475d310>,\n",
              " 'markets': <gensim.models.keyedvectors.Vocab at 0x7f376475d370>,\n",
              " 'policy': <gensim.models.keyedvectors.Vocab at 0x7f376475d3d0>,\n",
              " 'capital': <gensim.models.keyedvectors.Vocab at 0x7f376475d430>,\n",
              " 'saw': <gensim.models.keyedvectors.Vocab at 0x7f376475d490>,\n",
              " 'access': <gensim.models.keyedvectors.Vocab at 0x7f376475d4f0>,\n",
              " 'weekend': <gensim.models.keyedvectors.Vocab at 0x7f376475d550>,\n",
              " 'operations': <gensim.models.keyedvectors.Vocab at 0x7f376475d5b0>,\n",
              " 'whose': <gensim.models.keyedvectors.Vocab at 0x7f376475d610>,\n",
              " 'net': <gensim.models.keyedvectors.Vocab at 0x7f376475d670>,\n",
              " 'House': <gensim.models.keyedvectors.Vocab at 0x7f376475d6d0>,\n",
              " 'hand': <gensim.models.keyedvectors.Vocab at 0x7f376475d730>,\n",
              " 'increased': <gensim.models.keyedvectors.Vocab at 0x7f376475d790>,\n",
              " 'charges': <gensim.models.keyedvectors.Vocab at 0x7f376475d7f0>,\n",
              " 'winning': <gensim.models.keyedvectors.Vocab at 0x7f376475d850>,\n",
              " 'trade': <gensim.models.keyedvectors.Vocab at 0x7f376475d8b0>,\n",
              " 'These': <gensim.models.keyedvectors.Vocab at 0x7f376475d910>,\n",
              " 'income': <gensim.models.keyedvectors.Vocab at 0x7f376475d970>,\n",
              " 'value': <gensim.models.keyedvectors.Vocab at 0x7f376475d9d0>,\n",
              " 'involved': <gensim.models.keyedvectors.Vocab at 0x7f376475da30>,\n",
              " 'Bank': <gensim.models.keyedvectors.Vocab at 0x7f376475da90>,\n",
              " 'November': <gensim.models.keyedvectors.Vocab at 0x7f376475daf0>,\n",
              " 'bill': <gensim.models.keyedvectors.Vocab at 0x7f376475db50>,\n",
              " 'compared': <gensim.models.keyedvectors.Vocab at 0x7f376475dbb0>,\n",
              " 'anything': <gensim.models.keyedvectors.Vocab at 0x7f376475dc10>,\n",
              " 'manager': <gensim.models.keyedvectors.Vocab at 0x7f376475dc70>,\n",
              " 'Texas': <gensim.models.keyedvectors.Vocab at 0x7f376475dcd0>,\n",
              " 'property': <gensim.models.keyedvectors.Vocab at 0x7f376475dd30>,\n",
              " 'stop': <gensim.models.keyedvectors.Vocab at 0x7f376475dd90>,\n",
              " 'annual': <gensim.models.keyedvectors.Vocab at 0x7f376475ddf0>,\n",
              " 'private': <gensim.models.keyedvectors.Vocab at 0x7f376475de50>,\n",
              " 'contract': <gensim.models.keyedvectors.Vocab at 0x7f376475deb0>,\n",
              " 'died': <gensim.models.keyedvectors.Vocab at 0x7f376475df10>,\n",
              " 'Now': <gensim.models.keyedvectors.Vocab at 0x7f376475df70>,\n",
              " 'hope': <gensim.models.keyedvectors.Vocab at 0x7f376475dfd0>,\n",
              " 'product': <gensim.models.keyedvectors.Vocab at 0x7f376475f070>,\n",
              " 'fans': <gensim.models.keyedvectors.Vocab at 0x7f376475f0d0>,\n",
              " 'lower': <gensim.models.keyedvectors.Vocab at 0x7f376475f130>,\n",
              " 'demand': <gensim.models.keyedvectors.Vocab at 0x7f376475f190>,\n",
              " 'News': <gensim.models.keyedvectors.Vocab at 0x7f376475f1f0>,\n",
              " 'David': <gensim.models.keyedvectors.Vocab at 0x7f376475f250>,\n",
              " 'club': <gensim.models.keyedvectors.Vocab at 0x7f376475f2b0>,\n",
              " 'comments': <gensim.models.keyedvectors.Vocab at 0x7f376475f310>,\n",
              " 'film': <gensim.models.keyedvectors.Vocab at 0x7f376475f370>,\n",
              " 'yards': <gensim.models.keyedvectors.Vocab at 0x7f376475f3d0>,\n",
              " 'quality': <gensim.models.keyedvectors.Vocab at 0x7f376475f430>,\n",
              " 'currently': <gensim.models.keyedvectors.Vocab at 0x7f376475f490>,\n",
              " 'events': <gensim.models.keyedvectors.Vocab at 0x7f376475f4f0>,\n",
              " 'addition': <gensim.models.keyedvectors.Vocab at 0x7f376475f550>,\n",
              " 'couple': <gensim.models.keyedvectors.Vocab at 0x7f376475f5b0>,\n",
              " 'schools': <gensim.models.keyedvectors.Vocab at 0x7f376475f610>,\n",
              " 'attack': <gensim.models.keyedvectors.Vocab at 0x7f376475f670>,\n",
              " 'region': <gensim.models.keyedvectors.Vocab at 0x7f376475f6d0>,\n",
              " 'latest': <gensim.models.keyedvectors.Vocab at 0x7f376475f730>,\n",
              " 'opportunity': <gensim.models.keyedvectors.Vocab at 0x7f376475f790>,\n",
              " 'worked': <gensim.models.keyedvectors.Vocab at 0x7f376475f7f0>,\n",
              " 'course': <gensim.models.keyedvectors.Vocab at 0x7f376475f850>,\n",
              " 'bad': <gensim.models.keyedvectors.Vocab at 0x7f376475f8b0>,\n",
              " 'fall': <gensim.models.keyedvectors.Vocab at 0x7f376475f910>,\n",
              " 'Group': <gensim.models.keyedvectors.Vocab at 0x7f376475f970>,\n",
              " 'October': <gensim.models.keyedvectors.Vocab at 0x7f376475f9d0>,\n",
              " 'jobs': <gensim.models.keyedvectors.Vocab at 0x7f376475fa30>,\n",
              " 'list': <gensim.models.keyedvectors.Vocab at 0x7f376475fa90>,\n",
              " 'let': <gensim.models.keyedvectors.Vocab at 0x7f376475faf0>,\n",
              " 'however': <gensim.models.keyedvectors.Vocab at 0x7f376475fb50>,\n",
              " 'chief': <gensim.models.keyedvectors.Vocab at 0x7f376475fbb0>,\n",
              " 'summer': <gensim.models.keyedvectors.Vocab at 0x7f376475fc10>,\n",
              " 'programs': <gensim.models.keyedvectors.Vocab at 0x7f376475fc70>,\n",
              " 'According': <gensim.models.keyedvectors.Vocab at 0x7f376475fcd0>,\n",
              " 'revenue': <gensim.models.keyedvectors.Vocab at 0x7f376475fd30>,\n",
              " 'Our': <gensim.models.keyedvectors.Vocab at 0x7f376475fd90>,\n",
              " 'rose': <gensim.models.keyedvectors.Vocab at 0x7f376475fdf0>,\n",
              " 'previous': <gensim.models.keyedvectors.Vocab at 0x7f376475fe50>,\n",
              " 'TV': <gensim.models.keyedvectors.Vocab at 0x7f376475fee0>,\n",
              " 'football': <gensim.models.keyedvectors.Vocab at 0x7f376475ff40>,\n",
              " 'biggest': <gensim.models.keyedvectors.Vocab at 0x7f376475ffa0>,\n",
              " 'employees': <gensim.models.keyedvectors.Vocab at 0x7f3764762040>,\n",
              " 'changes': <gensim.models.keyedvectors.Vocab at 0x7f37647620a0>,\n",
              " 'residents': <gensim.models.keyedvectors.Vocab at 0x7f3764762100>,\n",
              " 'means': <gensim.models.keyedvectors.Vocab at 0x7f3764762160>,\n",
              " 'agreement': <gensim.models.keyedvectors.Vocab at 0x7f37647621c0>,\n",
              " 'includes': <gensim.models.keyedvectors.Vocab at 0x7f3764762220>,\n",
              " 'post': <gensim.models.keyedvectors.Vocab at 0x7f3764762280>,\n",
              " 'Canada': <gensim.models.keyedvectors.Vocab at 0x7f37647622e0>,\n",
              " 'probably': <gensim.models.keyedvectors.Vocab at 0x7f3764762340>,\n",
              " 'related': <gensim.models.keyedvectors.Vocab at 0x7f37647623a0>,\n",
              " 'training': <gensim.models.keyedvectors.Vocab at 0x7f3764762400>,\n",
              " 'allowed': <gensim.models.keyedvectors.Vocab at 0x7f3764762460>,\n",
              " 'class': <gensim.models.keyedvectors.Vocab at 0x7f37647624c0>,\n",
              " 'bit': <gensim.models.keyedvectors.Vocab at 0x7f3764762520>,\n",
              " 'video': <gensim.models.keyedvectors.Vocab at 0x7f3764762580>,\n",
              " 'Michael': <gensim.models.keyedvectors.Vocab at 0x7f37647625e0>,\n",
              " 'An': <gensim.models.keyedvectors.Vocab at 0x7f3764762640>,\n",
              " 'sent': <gensim.models.keyedvectors.Vocab at 0x7f37647626a0>,\n",
              " 'education': <gensim.models.keyedvectors.Vocab at 0x7f3764762700>,\n",
              " 'states': <gensim.models.keyedvectors.Vocab at 0x7f3764762760>,\n",
              " 'straight': <gensim.models.keyedvectors.Vocab at 0x7f37647627c0>,\n",
              " 'love': <gensim.models.keyedvectors.Vocab at 0x7f3764762820>,\n",
              " 'beat': <gensim.models.keyedvectors.Vocab at 0x7f3764762880>,\n",
              " 'hold': <gensim.models.keyedvectors.Vocab at 0x7f37647628e0>,\n",
              " 'turn': <gensim.models.keyedvectors.Vocab at 0x7f3764762940>,\n",
              " 'finished': <gensim.models.keyedvectors.Vocab at 0x7f37647629a0>,\n",
              " 'network': <gensim.models.keyedvectors.Vocab at 0x7f3764762a00>,\n",
              " 'Smith': <gensim.models.keyedvectors.Vocab at 0x7f3764762a60>,\n",
              " 'buy': <gensim.models.keyedvectors.Vocab at 0x7f3764762ac0>,\n",
              " 'foreign': <gensim.models.keyedvectors.Vocab at 0x7f3764762b20>,\n",
              " 'especially': <gensim.models.keyedvectors.Vocab at 0x7f3764762b80>,\n",
              " 'groups': <gensim.models.keyedvectors.Vocab at 0x7f3764762be0>,\n",
              " 'wants': <gensim.models.keyedvectors.Vocab at 0x7f3764762c40>,\n",
              " 'title': <gensim.models.keyedvectors.Vocab at 0x7f3764762ca0>,\n",
              " 'included': <gensim.models.keyedvectors.Vocab at 0x7f3764762d00>,\n",
              " 'turned': <gensim.models.keyedvectors.Vocab at 0x7f3764762d60>,\n",
              " 'bank': <gensim.models.keyedvectors.Vocab at 0x7f3764762dc0>,\n",
              " 'Florida': <gensim.models.keyedvectors.Vocab at 0x7f3764762e20>,\n",
              " 'efforts': <gensim.models.keyedvectors.Vocab at 0x7f3764762e80>,\n",
              " 'personal': <gensim.models.keyedvectors.Vocab at 0x7f3764762ee0>,\n",
              " 'businesses': <gensim.models.keyedvectors.Vocab at 0x7f3764762f40>,\n",
              " 'August': <gensim.models.keyedvectors.Vocab at 0x7f3764762fa0>,\n",
              " 'California': <gensim.models.keyedvectors.Vocab at 0x7f3764766040>,\n",
              " 'situation': <gensim.models.keyedvectors.Vocab at 0x7f37647660a0>,\n",
              " 'district': <gensim.models.keyedvectors.Vocab at 0x7f3764766100>,\n",
              " 'allow': <gensim.models.keyedvectors.Vocab at 0x7f3764766160>,\n",
              " 'helped': <gensim.models.keyedvectors.Vocab at 0x7f37647661c0>,\n",
              " 'body': <gensim.models.keyedvectors.Vocab at 0x7f3764766220>,\n",
              " 'nothing': <gensim.models.keyedvectors.Vocab at 0x7f3764766280>,\n",
              " 'soon': <gensim.models.keyedvectors.Vocab at 0x7f37647662e0>,\n",
              " 'safety': <gensim.models.keyedvectors.Vocab at 0x7f3764766340>,\n",
              " 'officer': <gensim.models.keyedvectors.Vocab at 0x7f37647663a0>,\n",
              " 'cents': <gensim.models.keyedvectors.Vocab at 0x7f3764766400>,\n",
              " 'Europe': <gensim.models.keyedvectors.Vocab at 0x7f3764766490>,\n",
              " 'St.': <gensim.models.keyedvectors.Vocab at 0x7f37647664f0>,\n",
              " 'additional': <gensim.models.keyedvectors.Vocab at 0x7f3764766550>,\n",
              " 'spokesman': <gensim.models.keyedvectors.Vocab at 0x7f37647665b0>,\n",
              " 'February': <gensim.models.keyedvectors.Vocab at 0x7f3764766610>,\n",
              " 'wife': <gensim.models.keyedvectors.Vocab at 0x7f3764766670>,\n",
              " 'showed': <gensim.models.keyedvectors.Vocab at 0x7f37647666d0>,\n",
              " 'leave': <gensim.models.keyedvectors.Vocab at 0x7f3764766730>,\n",
              " 'investors': <gensim.models.keyedvectors.Vocab at 0x7f3764766790>,\n",
              " 'parents': <gensim.models.keyedvectors.Vocab at 0x7f37647667f0>,\n",
              " 'medical': <gensim.models.keyedvectors.Vocab at 0x7f3764766850>,\n",
              " 'spending': <gensim.models.keyedvectors.Vocab at 0x7f37647668b0>,\n",
              " 'non': <gensim.models.keyedvectors.Vocab at 0x7f3764766910>,\n",
              " 'London': <gensim.models.keyedvectors.Vocab at 0x7f3764766970>,\n",
              " 'Council': <gensim.models.keyedvectors.Vocab at 0x7f37647669d0>,\n",
              " 'matter': <gensim.models.keyedvectors.Vocab at 0x7f3764766a30>,\n",
              " 'spent': <gensim.models.keyedvectors.Vocab at 0x7f3764766a90>,\n",
              " 'child': <gensim.models.keyedvectors.Vocab at 0x7f3764766af0>,\n",
              " 'World': <gensim.models.keyedvectors.Vocab at 0x7f3764766b50>,\n",
              " 'effort': <gensim.models.keyedvectors.Vocab at 0x7f3764766bb0>,\n",
              " 'opening': <gensim.models.keyedvectors.Vocab at 0x7f3764766c10>,\n",
              " 'either': <gensim.models.keyedvectors.Vocab at 0x7f3764766c70>,\n",
              " 'range': <gensim.models.keyedvectors.Vocab at 0x7f3764766cd0>,\n",
              " 'question': <gensim.models.keyedvectors.Vocab at 0x7f3764766d30>,\n",
              " 'European': <gensim.models.keyedvectors.Vocab at 0x7f3764766d90>,\n",
              " 'goals': <gensim.models.keyedvectors.Vocab at 0x7f3764766df0>,\n",
              " 'administration': <gensim.models.keyedvectors.Vocab at 0x7f3764766e50>,\n",
              " 'friends': <gensim.models.keyedvectors.Vocab at 0x7f3764766eb0>,\n",
              " 'himself': <gensim.models.keyedvectors.Vocab at 0x7f3764766f10>,\n",
              " 'shows': <gensim.models.keyedvectors.Vocab at 0x7f3764766f70>,\n",
              " 'difficult': <gensim.models.keyedvectors.Vocab at 0x7f3764766fd0>,\n",
              " 'kids': <gensim.models.keyedvectors.Vocab at 0x7f3764768070>,\n",
              " 'paid': <gensim.models.keyedvectors.Vocab at 0x7f37647680d0>,\n",
              " 'create': <gensim.models.keyedvectors.Vocab at 0x7f3764768130>,\n",
              " 'cash': <gensim.models.keyedvectors.Vocab at 0x7f3764768190>,\n",
              " 'age': <gensim.models.keyedvectors.Vocab at 0x7f37647681f0>,\n",
              " 'league': <gensim.models.keyedvectors.Vocab at 0x7f3764768250>,\n",
              " 'form': <gensim.models.keyedvectors.Vocab at 0x7f37647682b0>,\n",
              " 'impact': <gensim.models.keyedvectors.Vocab at 0x7f3764768310>,\n",
              " 'drive': <gensim.models.keyedvectors.Vocab at 0x7f3764768370>,\n",
              " 'someone': <gensim.models.keyedvectors.Vocab at 0x7f37647683d0>,\n",
              " 'became': <gensim.models.keyedvectors.Vocab at 0x7f3764768430>,\n",
              " 'stay': <gensim.models.keyedvectors.Vocab at 0x7f3764768490>,\n",
              " 'fight': <gensim.models.keyedvectors.Vocab at 0x7f37647684f0>,\n",
              " 'significant': <gensim.models.keyedvectors.Vocab at 0x7f3764768550>,\n",
              " 'firm': <gensim.models.keyedvectors.Vocab at 0x7f37647685b0>,\n",
              " 'Senate': <gensim.models.keyedvectors.Vocab at 0x7f3764768610>,\n",
              " 'hospital': <gensim.models.keyedvectors.Vocab at 0x7f3764768670>,\n",
              " 'charged': <gensim.models.keyedvectors.Vocab at 0x7f37647686d0>,\n",
              " 'operating': <gensim.models.keyedvectors.Vocab at 0x7f3764768730>,\n",
              " 'main': <gensim.models.keyedvectors.Vocab at 0x7f3764768790>,\n",
              " 'book': <gensim.models.keyedvectors.Vocab at 0x7f37647687f0>,\n",
              " 'success': <gensim.models.keyedvectors.Vocab at 0x7f3764768850>,\n",
              " 'son': <gensim.models.keyedvectors.Vocab at 0x7f37647688b0>,\n",
              " 'trading': <gensim.models.keyedvectors.Vocab at 0x7f3764768910>,\n",
              " '###-####': <gensim.models.keyedvectors.Vocab at 0x7f3764768970>,\n",
              " 'focus': <gensim.models.keyedvectors.Vocab at 0x7f37647689d0>,\n",
              " 'room': <gensim.models.keyedvectors.Vocab at 0x7f3764768a30>,\n",
              " 'continued': <gensim.models.keyedvectors.Vocab at 0x7f3764768a90>,\n",
              " 'Congress': <gensim.models.keyedvectors.Vocab at 0x7f3764768af0>,\n",
              " 'everything': <gensim.models.keyedvectors.Vocab at 0x7f3764768b50>,\n",
              " 'Park': <gensim.models.keyedvectors.Vocab at 0x7f3764768bb0>,\n",
              " 'agency': <gensim.models.keyedvectors.Vocab at 0x7f3764768c10>,\n",
              " 'brought': <gensim.models.keyedvectors.Vocab at 0x7f3764768c70>,\n",
              " 'talk': <gensim.models.keyedvectors.Vocab at 0x7f3764768cd0>,\n",
              " 'break': <gensim.models.keyedvectors.Vocab at 0x7f3764768d30>,\n",
              " 'air': <gensim.models.keyedvectors.Vocab at 0x7f3764768d90>,\n",
              " 'software': <gensim.models.keyedvectors.Vocab at 0x7f3764768df0>,\n",
              " 'decided': <gensim.models.keyedvectors.Vocab at 0x7f3764768e50>,\n",
              " 'Do': <gensim.models.keyedvectors.Vocab at 0x7f3764768eb0>,\n",
              " 'ready': <gensim.models.keyedvectors.Vocab at 0x7f3764768f10>,\n",
              " 'arrested': <gensim.models.keyedvectors.Vocab at 0x7f3764768f70>,\n",
              " 'track': <gensim.models.keyedvectors.Vocab at 0x7f3764768fd0>,\n",
              " 'provides': <gensim.models.keyedvectors.Vocab at 0x7f376476b070>,\n",
              " 'mother': <gensim.models.keyedvectors.Vocab at 0x7f376476b0d0>,\n",
              " 'base': <gensim.models.keyedvectors.Vocab at 0x7f376476b130>,\n",
              " 'trial': <gensim.models.keyedvectors.Vocab at 0x7f376476b190>,\n",
              " 'phone': <gensim.models.keyedvectors.Vocab at 0x7f376476b1f0>,\n",
              " 'My': <gensim.models.keyedvectors.Vocab at 0x7f376476b250>,\n",
              " 'build': <gensim.models.keyedvectors.Vocab at 0x7f376476b2b0>,\n",
              " 'conditions': <gensim.models.keyedvectors.Vocab at 0x7f376476b310>,\n",
              " 'rest': <gensim.models.keyedvectors.Vocab at 0x7f376476b370>,\n",
              " 'Johnson': <gensim.models.keyedvectors.Vocab at 0x7f376476b3d0>,\n",
              " 'terms': <gensim.models.keyedvectors.Vocab at 0x7f376476b430>,\n",
              " 'expect': <gensim.models.keyedvectors.Vocab at 0x7f376476b490>,\n",
              " 'England': <gensim.models.keyedvectors.Vocab at 0x7f376476b4f0>,\n",
              " 'Israel': <gensim.models.keyedvectors.Vocab at 0x7f376476b550>,\n",
              " 'despite': <gensim.models.keyedvectors.Vocab at 0x7f376476b5b0>,\n",
              " 'closed': <gensim.models.keyedvectors.Vocab at 0x7f376476b610>,\n",
              " 'starting': <gensim.models.keyedvectors.Vocab at 0x7f376476b670>,\n",
              " 'provided': <gensim.models.keyedvectors.Vocab at 0x7f376476b6d0>,\n",
              " 'pressure': <gensim.models.keyedvectors.Vocab at 0x7f376476b730>,\n",
              " 'lives': <gensim.models.keyedvectors.Vocab at 0x7f376476b790>,\n",
              " 'step': <gensim.models.keyedvectors.Vocab at 0x7f376476b7f0>,\n",
              " 'remain': <gensim.models.keyedvectors.Vocab at 0x7f376476b850>,\n",
              " 'similar': <gensim.models.keyedvectors.Vocab at 0x7f376476b8b0>,\n",
              " 'charge': <gensim.models.keyedvectors.Vocab at 0x7f376476b910>,\n",
              " 'date': <gensim.models.keyedvectors.Vocab at 0x7f376476b970>,\n",
              " 'whole': <gensim.models.keyedvectors.Vocab at 0x7f376476b9d0>,\n",
              " 'land': <gensim.models.keyedvectors.Vocab at 0x7f376476ba30>,\n",
              " 'growing': <gensim.models.keyedvectors.Vocab at 0x7f376476ba90>,\n",
              " 'James': <gensim.models.keyedvectors.Vocab at 0x7f376476baf0>,\n",
              " 'Internet': <gensim.models.keyedvectors.Vocab at 0x7f376476bb50>,\n",
              " 'projects': <gensim.models.keyedvectors.Vocab at 0x7f376476bbb0>,\n",
              " 'British': <gensim.models.keyedvectors.Vocab at 0x7f376476bc10>,\n",
              " 'cases': <gensim.models.keyedvectors.Vocab at 0x7f376476bc70>,\n",
              " 'ground': <gensim.models.keyedvectors.Vocab at 0x7f376476bcd0>,\n",
              " 'legal': <gensim.models.keyedvectors.Vocab at 0x7f376476bd30>,\n",
              " 'International': <gensim.models.keyedvectors.Vocab at 0x7f376476bd90>,\n",
              " 'agreed': <gensim.models.keyedvectors.Vocab at 0x7f376476bdf0>,\n",
              " 'tell': <gensim.models.keyedvectors.Vocab at 0x7f376476be50>,\n",
              " 'test': <gensim.models.keyedvectors.Vocab at 0x7f376476beb0>,\n",
              " 'everyone': <gensim.models.keyedvectors.Vocab at 0x7f376476bf10>,\n",
              " 'pretty': <gensim.models.keyedvectors.Vocab at 0x7f376476bf70>,\n",
              " 'authorities': <gensim.models.keyedvectors.Vocab at 0x7f376476bfd0>,\n",
              " 'Two': <gensim.models.keyedvectors.Vocab at 0x7f376476e070>,\n",
              " 'above': <gensim.models.keyedvectors.Vocab at 0x7f376476e0d0>,\n",
              " 'moved': <gensim.models.keyedvectors.Vocab at 0x7f376476e130>,\n",
              " 'profit': <gensim.models.keyedvectors.Vocab at 0x7f376476e190>,\n",
              " 'throughout': <gensim.models.keyedvectors.Vocab at 0x7f376476e1f0>,\n",
              " 'inside': <gensim.models.keyedvectors.Vocab at 0x7f376476e250>,\n",
              " 'ability': <gensim.models.keyedvectors.Vocab at 0x7f376476e2b0>,\n",
              " 'overall': <gensim.models.keyedvectors.Vocab at 0x7f376476e310>,\n",
              " 'pass': <gensim.models.keyedvectors.Vocab at 0x7f376476e370>,\n",
              " 'officers': <gensim.models.keyedvectors.Vocab at 0x7f376476e3d0>,\n",
              " 'rather': <gensim.models.keyedvectors.Vocab at 0x7f376476e430>,\n",
              " 'Australia': <gensim.models.keyedvectors.Vocab at 0x7f376476e490>,\n",
              " 'actually': <gensim.models.keyedvectors.Vocab at 0x7f376476e4f0>,\n",
              " 'county': <gensim.models.keyedvectors.Vocab at 0x7f376476e550>,\n",
              " 'amount': <gensim.models.keyedvectors.Vocab at 0x7f376476e5b0>,\n",
              " 'scheduled': <gensim.models.keyedvectors.Vocab at 0x7f376476e610>,\n",
              " 'themselves': <gensim.models.keyedvectors.Vocab at 0x7f376476e670>,\n",
              " 'organization': <gensim.models.keyedvectors.Vocab at 0x7f376476e700>,\n",
              " 'giving': <gensim.models.keyedvectors.Vocab at 0x7f376476e760>,\n",
              " 'credit': <gensim.models.keyedvectors.Vocab at 0x7f376476e7c0>,\n",
              " 'father': <gensim.models.keyedvectors.Vocab at 0x7f376476e820>,\n",
              " 'drug': <gensim.models.keyedvectors.Vocab at 0x7f376476e880>,\n",
              " 'investigation': <gensim.models.keyedvectors.Vocab at 0x7f376476e8e0>,\n",
              " 'families': <gensim.models.keyedvectors.Vocab at 0x7f376476e940>,\n",
              " 'Republican': <gensim.models.keyedvectors.Vocab at 0x7f376476e9d0>,\n",
              " 'funds': <gensim.models.keyedvectors.Vocab at 0x7f376476ea30>,\n",
              " 'patients': <gensim.models.keyedvectors.Vocab at 0x7f376476ea90>,\n",
              " 'takes': <gensim.models.keyedvectors.Vocab at 0x7f376476eaf0>,\n",
              " 'systems': <gensim.models.keyedvectors.Vocab at 0x7f376476eb50>,\n",
              " 'Japan': <gensim.models.keyedvectors.Vocab at 0x7f376476ebb0>,\n",
              " 'complete': <gensim.models.keyedvectors.Vocab at 0x7f376476ec10>,\n",
              " 'sold': <gensim.models.keyedvectors.Vocab at 0x7f376476ec70>,\n",
              " 'practice': <gensim.models.keyedvectors.Vocab at 0x7f376476ecd0>,\n",
              " 'calls': <gensim.models.keyedvectors.Vocab at 0x7f376476ed30>,\n",
              " '•': <gensim.models.keyedvectors.Vocab at 0x7f376476ee20>,\n",
              " 'UK': <gensim.models.keyedvectors.Vocab at 0x7f376476eeb0>,\n",
              " 'force': <gensim.models.keyedvectors.Vocab at 0x7f376476ef10>,\n",
              " 'student': <gensim.models.keyedvectors.Vocab at 0x7f376476ef70>,\n",
              " 'idea': <gensim.models.keyedvectors.Vocab at 0x7f376476efd0>,\n",
              " 'reached': <gensim.models.keyedvectors.Vocab at 0x7f3764771070>,\n",
              " 'reason': <gensim.models.keyedvectors.Vocab at 0x7f37647710d0>,\n",
              " 'levels': <gensim.models.keyedvectors.Vocab at 0x7f3764771130>,\n",
              " 'space': <gensim.models.keyedvectors.Vocab at 0x7f3764771190>,\n",
              " 'competition': <gensim.models.keyedvectors.Vocab at 0x7f37647711f0>,\n",
              " 'forces': <gensim.models.keyedvectors.Vocab at 0x7f3764771250>,\n",
              " 'sector': <gensim.models.keyedvectors.Vocab at 0x7f37647712b0>,\n",
              " 'Last': <gensim.models.keyedvectors.Vocab at 0x7f3764771310>,\n",
              " 'tried': <gensim.models.keyedvectors.Vocab at 0x7f3764771370>,\n",
              " 'common': <gensim.models.keyedvectors.Vocab at 0x7f37647713d0>,\n",
              " 'homes': <gensim.models.keyedvectors.Vocab at 0x7f3764771430>,\n",
              " 'stage': <gensim.models.keyedvectors.Vocab at 0x7f3764771490>,\n",
              " 'department': <gensim.models.keyedvectors.Vocab at 0x7f37647714f0>,\n",
              " 'named': <gensim.models.keyedvectors.Vocab at 0x7f3764771550>,\n",
              " 'earnings': <gensim.models.keyedvectors.Vocab at 0x7f37647715b0>,\n",
              " 'offers': <gensim.models.keyedvectors.Vocab at 0x7f3764771610>,\n",
              " 'star': <gensim.models.keyedvectors.Vocab at 0x7f3764771670>,\n",
              " 'certain': <gensim.models.keyedvectors.Vocab at 0x7f37647716d0>,\n",
              " 'double': <gensim.models.keyedvectors.Vocab at 0x7f3764771730>,\n",
              " 'longer': <gensim.models.keyedvectors.Vocab at 0x7f3764771790>,\n",
              " 'followed': <gensim.models.keyedvectors.Vocab at 0x7f37647717f0>,\n",
              " 'cause': <gensim.models.keyedvectors.Vocab at 0x7f3764771850>,\n",
              " 'Association': <gensim.models.keyedvectors.Vocab at 0x7f37647718b0>,\n",
              " 'signed': <gensim.models.keyedvectors.Vocab at 0x7f3764771910>,\n",
              " 'committee': <gensim.models.keyedvectors.Vocab at 0x7f3764771970>,\n",
              " 'hour': <gensim.models.keyedvectors.Vocab at 0x7f37647719d0>,\n",
              " 'college': <gensim.models.keyedvectors.Vocab at 0x7f3764771a30>,\n",
              " 'Pakistan': <gensim.models.keyedvectors.Vocab at 0x7f3764771a90>,\n",
              " 'users': <gensim.models.keyedvectors.Vocab at 0x7f3764771af0>,\n",
              " 'Iran': <gensim.models.keyedvectors.Vocab at 0x7f3764771b50>,\n",
              " 'sign': <gensim.models.keyedvectors.Vocab at 0x7f3764771bb0>,\n",
              " 'living': <gensim.models.keyedvectors.Vocab at 0x7f3764771c10>,\n",
              " 'failed': <gensim.models.keyedvectors.Vocab at 0x7f3764771c70>,\n",
              " 'reach': <gensim.models.keyedvectors.Vocab at 0x7f3764771cd0>,\n",
              " 'quickly': <gensim.models.keyedvectors.Vocab at 0x7f3764771d30>,\n",
              " 'receive': <gensim.models.keyedvectors.Vocab at 0x7f3764771d90>,\n",
              " 'debt': <gensim.models.keyedvectors.Vocab at 0x7f3764771df0>,\n",
              " 'sale': <gensim.models.keyedvectors.Vocab at 0x7f3764771e50>,\n",
              " 'Board': <gensim.models.keyedvectors.Vocab at 0x7f3764771eb0>,\n",
              " 'Americans': <gensim.models.keyedvectors.Vocab at 0x7f3764771f10>,\n",
              " 'Road': <gensim.models.keyedvectors.Vocab at 0x7f3764771f70>,\n",
              " 'Brown': <gensim.models.keyedvectors.Vocab at 0x7f3764771fd0>,\n",
              " 'insurance': <gensim.models.keyedvectors.Vocab at 0x7f3764774070>,\n",
              " '##:##': <gensim.models.keyedvectors.Vocab at 0x7f37647740d0>,\n",
              " 'anyone': <gensim.models.keyedvectors.Vocab at 0x7f3764774130>,\n",
              " 'tournament': <gensim.models.keyedvectors.Vocab at 0x7f3764774190>,\n",
              " 'More': <gensim.models.keyedvectors.Vocab at 0x7f37647741f0>,\n",
              " 'gas': <gensim.models.keyedvectors.Vocab at 0x7f3764774250>,\n",
              " 'talks': <gensim.models.keyedvectors.Vocab at 0x7f37647742b0>,\n",
              " 'serious': <gensim.models.keyedvectors.Vocab at 0x7f3764774310>,\n",
              " 'required': <gensim.models.keyedvectors.Vocab at 0x7f3764774370>,\n",
              " 'sell': <gensim.models.keyedvectors.Vocab at 0x7f37647743d0>,\n",
              " 'construction': <gensim.models.keyedvectors.Vocab at 0x7f3764774430>,\n",
              " 'evidence': <gensim.models.keyedvectors.Vocab at 0x7f3764774490>,\n",
              " 'remains': <gensim.models.keyedvectors.Vocab at 0x7f37647744f0>,\n",
              " 'black': <gensim.models.keyedvectors.Vocab at 0x7f3764774550>,\n",
              " 'below': <gensim.models.keyedvectors.Vocab at 0x7f37647745b0>,\n",
              " 'improve': <gensim.models.keyedvectors.Vocab at 0x7f3764774610>,\n",
              " 'crisis': <gensim.models.keyedvectors.Vocab at 0x7f3764774670>,\n",
              " 'address': <gensim.models.keyedvectors.Vocab at 0x7f37647746d0>,\n",
              " 'questions': <gensim.models.keyedvectors.Vocab at 0x7f3764774730>,\n",
              " 'easy': <gensim.models.keyedvectors.Vocab at 0x7f3764774790>,\n",
              " 'begin': <gensim.models.keyedvectors.Vocab at 0x7f37647747f0>,\n",
              " 'view': <gensim.models.keyedvectors.Vocab at 0x7f3764774850>,\n",
              " 'School': <gensim.models.keyedvectors.Vocab at 0x7f37647748b0>,\n",
              " 'heard': <gensim.models.keyedvectors.Vocab at 0x7f3764774910>,\n",
              " 'executive': <gensim.models.keyedvectors.Vocab at 0x7f3764774970>,\n",
              " 'raised': <gensim.models.keyedvectors.Vocab at 0x7f37647749d0>,\n",
              " ...}"
            ]
          },
          "metadata": {},
          "execution_count": 4
        }
      ],
      "source": [
        "kv.wv.vocab"
      ]
    },
    {
      "cell_type": "code",
      "execution_count": null,
      "metadata": {
        "colab": {
          "base_uri": "https://localhost:8080/"
        },
        "id": "wBvkG_j_QTUO",
        "outputId": "2fe54602-e6fb-4ca6-d83a-2940d7a87540"
      },
      "outputs": [
        {
          "output_type": "stream",
          "name": "stderr",
          "text": [
            "<ipython-input-5-7c40d9c5f09f>:1: DeprecationWarning: Call to deprecated `wv` (Attribute will be removed in 4.0.0, use self instead).\n",
            "  len(kv.wv.vocab)\n"
          ]
        },
        {
          "output_type": "execute_result",
          "data": {
            "text/plain": [
              "3000000"
            ]
          },
          "metadata": {},
          "execution_count": 5
        }
      ],
      "source": [
        "len(kv.wv.vocab)"
      ]
    },
    {
      "cell_type": "code",
      "execution_count": null,
      "metadata": {
        "colab": {
          "base_uri": "https://localhost:8080/"
        },
        "id": "gG-AllxvQWC3",
        "outputId": "c95cbc87-9ea2-4156-a05b-e8ba419a45bd"
      },
      "outputs": [
        {
          "output_type": "execute_result",
          "data": {
            "text/plain": [
              "300"
            ]
          },
          "metadata": {},
          "execution_count": 6
        }
      ],
      "source": [
        "kv.vector_size"
      ]
    },
    {
      "cell_type": "code",
      "execution_count": null,
      "metadata": {
        "colab": {
          "base_uri": "https://localhost:8080/"
        },
        "id": "Q4AhcqblRONN",
        "outputId": "c17292da-54f2-4060-bffd-81d7045f0b12"
      },
      "outputs": [
        {
          "output_type": "stream",
          "name": "stderr",
          "text": [
            "<ipython-input-8-1e9de51611d3>:1: DeprecationWarning: Call to deprecated `wv` (Attribute will be removed in 4.0.0, use self instead).\n",
            "  kv.wv[\"Rajan\"]\n"
          ]
        },
        {
          "output_type": "execute_result",
          "data": {
            "text/plain": [
              "array([ 0.11962891,  0.39648438,  0.11181641,  0.29492188,  0.05810547,\n",
              "       -0.07519531, -0.05249023, -0.17382812, -0.04272461, -0.02575684,\n",
              "       -0.06152344, -0.18652344,  0.08300781, -0.04785156, -0.26367188,\n",
              "       -0.01019287,  0.2890625 , -0.19433594, -0.19824219,  0.01300049,\n",
              "        0.13867188, -0.09326172,  0.14355469, -0.11376953,  0.00860596,\n",
              "        0.01092529, -0.17382812, -0.27539062,  0.23828125,  0.01269531,\n",
              "       -0.3125    , -0.328125  ,  0.10302734, -0.08642578, -0.08886719,\n",
              "       -0.04541016,  0.05615234,  0.02514648,  0.18261719, -0.24707031,\n",
              "        0.16992188,  0.328125  ,  0.07910156,  0.48632812, -0.09228516,\n",
              "       -0.09277344, -0.09375   , -0.03466797,  0.47070312, -0.12597656,\n",
              "        0.08496094,  0.14648438,  0.17871094, -0.38085938,  0.25      ,\n",
              "       -0.15136719, -0.05615234, -0.0612793 ,  0.11181641, -0.34570312,\n",
              "        0.12255859, -0.10839844, -0.07958984,  0.06176758,  0.02734375,\n",
              "        0.00726318,  0.20605469,  0.08691406,  0.17871094, -0.08398438,\n",
              "       -0.00506592,  0.06640625,  0.21289062, -0.234375  , -0.06298828,\n",
              "       -0.07275391, -0.03466797,  0.09619141, -0.01483154,  0.01373291,\n",
              "        0.22070312,  0.15039062,  0.06347656,  0.00408936, -0.22070312,\n",
              "        0.15429688, -0.07226562,  0.19726562, -0.03515625, -0.04052734,\n",
              "        0.0625    , -0.15722656, -0.19042969,  0.00671387, -0.57421875,\n",
              "       -0.02636719,  0.19628906,  0.17675781,  0.23242188,  0.11181641,\n",
              "       -0.02502441, -0.08203125,  0.15234375, -0.05883789,  0.23730469,\n",
              "       -0.01831055, -0.01147461,  0.08935547,  0.11474609,  0.04882812,\n",
              "        0.05981445, -0.21679688,  0.11621094, -0.30859375,  0.00521851,\n",
              "        0.3984375 ,  0.04296875, -0.33203125,  0.33984375, -0.11523438,\n",
              "       -0.09667969,  0.47460938, -0.29492188,  0.11083984, -0.20507812,\n",
              "        0.27539062,  0.00646973,  0.13378906,  0.06591797,  0.06445312,\n",
              "       -0.21386719, -0.02294922, -0.08544922, -0.34765625, -0.02087402,\n",
              "       -0.21289062,  0.06542969,  0.14160156, -0.05273438,  0.30273438,\n",
              "        0.25585938, -0.29296875,  0.00485229, -0.02099609, -0.07226562,\n",
              "        0.07714844, -0.01116943,  0.15136719,  0.0390625 ,  0.17578125,\n",
              "        0.02929688, -0.11230469,  0.00753784,  0.03442383, -0.12158203,\n",
              "       -0.16699219, -0.31054688, -0.10009766,  0.21386719, -0.03417969,\n",
              "        0.12207031, -0.3203125 , -0.1640625 ,  0.05493164, -0.04223633,\n",
              "       -0.16699219, -0.09228516,  0.10302734, -0.02941895, -0.09667969,\n",
              "       -0.09082031, -0.25976562, -0.1640625 , -0.21875   ,  0.02172852,\n",
              "       -0.22070312,  0.00756836, -0.06835938,  0.01599121, -0.203125  ,\n",
              "        0.14160156,  0.10888672, -0.0279541 , -0.07519531,  0.01611328,\n",
              "       -0.140625  ,  0.41015625, -0.03393555,  0.13964844, -0.1328125 ,\n",
              "       -0.29101562, -0.22949219, -0.328125  ,  0.125     , -0.09912109,\n",
              "       -0.18652344, -0.05932617, -0.22265625,  0.11523438, -0.13183594,\n",
              "       -0.06787109,  0.16015625, -0.01647949, -0.13085938, -0.02172852,\n",
              "        0.19140625,  0.19824219, -0.29101562, -0.05712891, -0.5703125 ,\n",
              "        0.04150391, -0.23535156,  0.01013184, -0.19238281,  0.09765625,\n",
              "       -0.18652344, -0.09375   ,  0.05004883, -0.26367188, -0.203125  ,\n",
              "        0.09179688,  0.06152344, -0.14160156,  0.06738281, -0.18847656,\n",
              "        0.12011719, -0.16210938, -0.28515625, -0.04418945,  0.26757812,\n",
              "       -0.14941406, -0.04736328,  0.28515625, -0.20703125, -0.01525879,\n",
              "       -0.10888672,  0.17773438, -0.12353516, -0.15234375,  0.09179688,\n",
              "        0.10302734, -0.05444336, -0.11328125,  0.03015137, -0.2109375 ,\n",
              "        0.22070312, -0.12988281,  0.05688477,  0.3125    , -0.10400391,\n",
              "        0.18066406,  0.12597656, -0.15820312,  0.40429688,  0.28710938,\n",
              "        0.12695312, -0.24804688,  0.05395508, -0.21875   , -0.15527344,\n",
              "       -0.07568359,  0.1640625 ,  0.10644531, -0.08886719,  0.07470703,\n",
              "        0.06201172, -0.18554688,  0.02893066,  0.609375  , -0.04199219,\n",
              "       -0.10205078, -0.328125  , -0.02709961,  0.31835938,  0.1953125 ,\n",
              "       -0.28515625, -0.08447266,  0.03540039, -0.07470703,  0.20507812,\n",
              "       -0.08935547, -0.56640625, -0.39453125,  0.07324219,  0.15527344,\n",
              "        0.11230469, -0.140625  ,  0.0020752 ,  0.07470703,  0.02905273,\n",
              "       -0.02661133,  0.11621094,  0.32421875, -0.02661133,  0.04345703,\n",
              "       -0.06347656, -0.2890625 ,  0.171875  , -0.01263428,  0.21484375],\n",
              "      dtype=float32)"
            ]
          },
          "metadata": {},
          "execution_count": 8
        }
      ],
      "source": [
        "kv.wv[\"Rajan\"]"
      ]
    },
    {
      "cell_type": "code",
      "execution_count": null,
      "metadata": {
        "id": "HCrvlMSnpFMb",
        "colab": {
          "base_uri": "https://localhost:8080/"
        },
        "outputId": "c8120b52-16ff-4293-b1cc-4f7875abb0c4"
      },
      "outputs": [
        {
          "output_type": "stream",
          "name": "stderr",
          "text": [
            "<ipython-input-9-1481a537fe20>:1: DeprecationWarning: Call to deprecated `wv` (Attribute will be removed in 4.0.0, use self instead).\n",
            "  kv.wv[\"Gujarat\"]\n"
          ]
        },
        {
          "output_type": "execute_result",
          "data": {
            "text/plain": [
              "array([ 1.88476562e-01,  2.01171875e-01,  7.03125000e-02,  5.50781250e-01,\n",
              "       -2.50000000e-01, -3.20312500e-01,  6.00585938e-02, -1.04980469e-01,\n",
              "       -1.11328125e-01,  5.12695312e-03,  5.54199219e-02, -5.76171875e-02,\n",
              "       -8.00781250e-02, -9.52148438e-02, -5.59082031e-02,  6.49414062e-02,\n",
              "       -3.02734375e-01, -2.53906250e-01, -1.71875000e-01,  5.81054688e-02,\n",
              "        2.48046875e-01, -1.84570312e-01, -1.28906250e-01,  5.46875000e-02,\n",
              "        4.68750000e-02,  2.09960938e-01, -2.63671875e-01, -1.18652344e-01,\n",
              "        3.11279297e-02,  9.13085938e-02, -2.30468750e-01, -1.56250000e-01,\n",
              "       -2.69531250e-01,  3.26171875e-01, -2.17773438e-01,  2.29492188e-01,\n",
              "       -4.25781250e-01, -4.80468750e-01,  3.59375000e-01,  1.57470703e-02,\n",
              "        3.30078125e-01,  2.59765625e-01, -2.40234375e-01,  2.07031250e-01,\n",
              "       -1.43554688e-01, -4.37500000e-01, -2.79296875e-01,  1.07421875e-01,\n",
              "        3.56445312e-02, -1.32812500e-01, -4.32128906e-02, -1.02539062e-01,\n",
              "        3.43750000e-01,  1.85546875e-01, -7.03125000e-02,  6.54296875e-02,\n",
              "       -2.25585938e-01, -1.13769531e-01, -1.62109375e-01, -3.30078125e-01,\n",
              "        6.03027344e-02, -9.32617188e-02, -2.03125000e-01, -4.02832031e-02,\n",
              "        4.44335938e-02,  6.25000000e-02,  6.93359375e-02,  1.43554688e-01,\n",
              "        9.57031250e-02, -1.30859375e-01, -6.99218750e-01,  1.52343750e-01,\n",
              "        9.37500000e-02, -3.39355469e-02,  2.63671875e-02, -4.29687500e-01,\n",
              "        2.00195312e-01, -6.98242188e-02, -7.27539062e-02,  5.85937500e-03,\n",
              "       -6.15234375e-02, -2.14843750e-02, -1.46484375e-01, -2.50000000e-01,\n",
              "        1.28906250e-01,  1.48437500e-01,  5.63964844e-02,  5.44433594e-02,\n",
              "       -1.48437500e-01, -1.43554688e-01, -6.78710938e-02,  2.05078125e-01,\n",
              "       -1.45507812e-01,  5.71289062e-02, -1.85546875e-01,  6.98242188e-02,\n",
              "        3.16406250e-01,  2.13867188e-01,  4.08203125e-01,  3.10546875e-01,\n",
              "       -1.72851562e-01,  8.64257812e-02,  1.50390625e-01, -2.04101562e-01,\n",
              "       -8.64257812e-02, -2.75390625e-01,  4.73632812e-02,  1.81640625e-01,\n",
              "       -1.92382812e-01, -3.12500000e-02, -1.07910156e-01, -1.39648438e-01,\n",
              "        2.37304688e-01, -6.15234375e-02,  3.24218750e-01,  2.25585938e-01,\n",
              "       -6.29882812e-02, -6.83593750e-02,  4.06250000e-01,  8.93554688e-02,\n",
              "       -1.68945312e-01,  2.94921875e-01, -4.49218750e-01,  9.71679688e-02,\n",
              "       -1.38092041e-03,  2.89062500e-01, -3.51562500e-02, -5.39550781e-02,\n",
              "       -4.55078125e-01,  1.47460938e-01, -2.04101562e-01,  3.35937500e-01,\n",
              "       -3.61633301e-03, -1.11816406e-01, -1.72851562e-01, -1.47460938e-01,\n",
              "        1.96533203e-02,  1.51367188e-02, -9.37500000e-02,  1.87500000e-01,\n",
              "        2.42187500e-01, -2.01171875e-01,  1.82617188e-01, -2.53906250e-01,\n",
              "       -2.83203125e-01, -9.58251953e-03,  1.23535156e-01, -4.98046875e-02,\n",
              "        2.55859375e-01,  1.70898438e-01,  2.40234375e-01, -3.14453125e-01,\n",
              "       -2.62451172e-02, -1.50390625e-01, -2.58789062e-02, -5.85937500e-01,\n",
              "       -4.21875000e-01,  1.48437500e-01,  1.14746094e-01,  1.30859375e-01,\n",
              "        1.15234375e-01, -5.27343750e-01, -2.45117188e-01, -1.89453125e-01,\n",
              "        3.82812500e-01, -5.00000000e-01, -1.12304688e-01, -2.23632812e-01,\n",
              "        1.46484375e-01,  1.85546875e-01, -2.17773438e-01, -3.39843750e-01,\n",
              "       -2.33398438e-01, -1.57226562e-01,  9.57031250e-02, -7.26562500e-01,\n",
              "        2.65625000e-01, -5.07812500e-01, -2.73437500e-01, -3.35937500e-01,\n",
              "        1.19140625e-01,  2.63671875e-01, -3.16406250e-01, -1.95312500e-01,\n",
              "        3.04687500e-01,  1.27929688e-01,  1.22558594e-01,  2.30712891e-02,\n",
              "        2.31445312e-01,  4.80957031e-02, -3.43750000e-01,  4.24804688e-02,\n",
              "       -4.57031250e-01, -5.56640625e-02,  2.08007812e-01,  1.56250000e-02,\n",
              "        2.26562500e-01,  9.27734375e-03,  2.46093750e-01,  4.90722656e-02,\n",
              "        6.34765625e-02, -3.04687500e-01,  1.55273438e-01, -5.93750000e-01,\n",
              "        1.24511719e-02,  4.54101562e-02, -3.73535156e-02, -4.39453125e-01,\n",
              "        1.78710938e-01, -1.37695312e-01, -2.83203125e-01, -3.76892090e-03,\n",
              "        1.40625000e-01, -2.57812500e-01, -8.83789062e-02,  2.17773438e-01,\n",
              "        4.63867188e-02,  2.83203125e-01,  3.51562500e-02, -2.59765625e-01,\n",
              "        5.41992188e-02,  3.04687500e-01, -3.67187500e-01,  2.12890625e-01,\n",
              "       -2.32421875e-01, -4.15802002e-04,  1.45263672e-02, -1.83868408e-03,\n",
              "        2.98828125e-01, -7.66601562e-02, -3.33984375e-01,  8.74023438e-02,\n",
              "        1.94335938e-01, -1.67968750e-01,  3.14941406e-02,  6.64062500e-02,\n",
              "       -1.64794922e-02, -1.51977539e-02,  1.73339844e-02, -1.57470703e-02,\n",
              "        4.82421875e-01, -1.07421875e-01,  4.62890625e-01,  5.90820312e-02,\n",
              "       -3.10546875e-01, -1.05285645e-03, -1.66992188e-01,  2.23632812e-01,\n",
              "       -7.12890625e-02, -1.91406250e-01,  4.90234375e-01,  7.32421875e-02,\n",
              "        5.27343750e-01,  1.35742188e-01,  2.89062500e-01,  6.59179688e-03,\n",
              "        2.43164062e-01,  1.64062500e-01, -3.34472656e-02, -3.84765625e-01,\n",
              "       -1.06933594e-01,  1.58203125e-01, -1.53320312e-01, -2.89062500e-01,\n",
              "        1.20117188e-01,  5.05371094e-02, -8.93554688e-02, -1.28906250e-01,\n",
              "        1.87500000e-01, -9.52148438e-02, -2.63671875e-01, -1.09863281e-01,\n",
              "       -2.94189453e-02,  1.06933594e-01,  2.95410156e-02, -1.09863281e-01,\n",
              "       -8.10546875e-02,  8.98437500e-02,  6.59179688e-02, -1.26953125e-01,\n",
              "        2.73437500e-01, -2.87109375e-01,  8.05664062e-02,  5.54199219e-02,\n",
              "       -4.85839844e-02, -1.48437500e-01, -2.55859375e-01, -1.47460938e-01,\n",
              "       -4.24804688e-02, -5.78613281e-02,  3.39355469e-02,  3.78417969e-02,\n",
              "       -1.31835938e-01,  1.22070312e-01, -9.66796875e-02,  2.87109375e-01,\n",
              "       -8.10546875e-02, -6.29882812e-02, -1.89453125e-01, -7.20214844e-03],\n",
              "      dtype=float32)"
            ]
          },
          "metadata": {},
          "execution_count": 9
        }
      ],
      "source": [
        "kv.wv[\"Gujarat\"]"
      ]
    },
    {
      "cell_type": "code",
      "execution_count": null,
      "metadata": {
        "colab": {
          "base_uri": "https://localhost:8080/"
        },
        "id": "vJZn2uyJo4Ac",
        "outputId": "b41e1d51-680f-4190-a44d-edcedabf5334"
      },
      "outputs": [
        {
          "output_type": "stream",
          "name": "stderr",
          "text": [
            "<ipython-input-10-d254c39b5266>:1: DeprecationWarning: Call to deprecated `wv` (Attribute will be removed in 4.0.0, use self instead).\n",
            "  len(kv.wv[\"Gujarat\"])\n"
          ]
        },
        {
          "output_type": "execute_result",
          "data": {
            "text/plain": [
              "300"
            ]
          },
          "metadata": {},
          "execution_count": 10
        }
      ],
      "source": [
        "len(kv.wv[\"Gujarat\"])"
      ]
    },
    {
      "cell_type": "code",
      "execution_count": null,
      "metadata": {
        "colab": {
          "base_uri": "https://localhost:8080/"
        },
        "id": "zT_1b1KgROQO",
        "outputId": "8313e13f-6dfb-4419-8e0e-64c8687ec8ce"
      },
      "outputs": [
        {
          "output_type": "execute_result",
          "data": {
            "text/plain": [
              "[('universities', 0.7003918886184692),\n",
              " ('faculty', 0.6780906915664673),\n",
              " ('unversity', 0.6758290529251099),\n",
              " ('undergraduate', 0.6587095260620117),\n",
              " ('univeristy', 0.6585438251495361),\n",
              " ('campus', 0.6434986591339111),\n",
              " ('college', 0.638526976108551),\n",
              " ('academic', 0.6317198276519775),\n",
              " ('professors', 0.6298649311065674),\n",
              " ('undergraduates', 0.6149812936782837)]"
            ]
          },
          "metadata": {},
          "execution_count": 11
        }
      ],
      "source": [
        "kv.most_similar('university')"
      ]
    },
    {
      "cell_type": "code",
      "execution_count": null,
      "metadata": {
        "colab": {
          "base_uri": "https://localhost:8080/"
        },
        "id": "PdukirL4ROSp",
        "outputId": "3890bebc-51d4-4355-8015-0ad6b2e9b3ad"
      },
      "outputs": [
        {
          "output_type": "execute_result",
          "data": {
            "text/plain": [
              "10"
            ]
          },
          "metadata": {},
          "execution_count": 12
        }
      ],
      "source": [
        "len(kv.most_similar('university'))"
      ]
    },
    {
      "cell_type": "code",
      "execution_count": null,
      "metadata": {
        "colab": {
          "base_uri": "https://localhost:8080/"
        },
        "id": "Hfw4CJhQUjqv",
        "outputId": "86c4ac72-ac15-4221-b2cc-62e02ee81e69"
      },
      "outputs": [
        {
          "output_type": "execute_result",
          "data": {
            "text/plain": [
              "[('universities', 0.7003918886184692),\n",
              " ('faculty', 0.6780906915664673),\n",
              " ('unversity', 0.6758290529251099)]"
            ]
          },
          "metadata": {},
          "execution_count": 14
        }
      ],
      "source": [
        "kv.most_similar(positive=['university'], topn = 3)"
      ]
    },
    {
      "cell_type": "code",
      "execution_count": null,
      "metadata": {
        "colab": {
          "base_uri": "https://localhost:8080/"
        },
        "id": "WP7ESJ3pROT3",
        "outputId": "f9bc73ee-7360-458b-fdcd-1b46a5779dd5"
      },
      "outputs": [
        {
          "output_type": "execute_result",
          "data": {
            "text/plain": [
              "[('woman', 0.7609435319900513),\n",
              " ('girl', 0.6139994263648987),\n",
              " ('teenage_girl', 0.6040961742401123),\n",
              " ('teenager', 0.5825759172439575),\n",
              " ('lady', 0.5752554535865784),\n",
              " ('boy', 0.5077576637268066),\n",
              " ('policewoman', 0.5066847801208496),\n",
              " ('schoolgirl', 0.5052095651626587),\n",
              " ('blonde', 0.48696184158325195),\n",
              " ('person', 0.48637545108795166)]"
            ]
          },
          "metadata": {},
          "execution_count": 15
        }
      ],
      "source": [
        "kv.most_similar(positive=['man','queen'], negative=['king'])"
      ]
    },
    {
      "cell_type": "code",
      "execution_count": null,
      "metadata": {
        "colab": {
          "base_uri": "https://localhost:8080/"
        },
        "id": "7nMVo810ROWS",
        "outputId": "4824246b-a6e9-43f9-a1ad-842a692d5e64"
      },
      "outputs": [
        {
          "output_type": "execute_result",
          "data": {
            "text/plain": [
              "[('woman', 0.7609435319900513)]"
            ]
          },
          "metadata": {},
          "execution_count": 16
        }
      ],
      "source": [
        "kv.most_similar(positive=['man','queen'], negative=['king'],topn=1)"
      ]
    },
    {
      "cell_type": "code",
      "execution_count": null,
      "metadata": {
        "colab": {
          "base_uri": "https://localhost:8080/"
        },
        "id": "rBuxNWiWROYi",
        "outputId": "d2474f56-892f-4a33-a1e6-b1053086b275"
      },
      "outputs": [
        {
          "output_type": "execute_result",
          "data": {
            "text/plain": [
              "[('France', 0.7884093523025513)]"
            ]
          },
          "metadata": {},
          "execution_count": 17
        }
      ],
      "source": [
        "kv.most_similar(positive=['Paris','Germany'], negative=['Berlin'], topn = 1)"
      ]
    },
    {
      "cell_type": "code",
      "execution_count": null,
      "metadata": {
        "colab": {
          "base_uri": "https://localhost:8080/"
        },
        "id": "avJCde8RRObE",
        "outputId": "bc04bcd1-0aa3-43fd-9017-f96f1dae91e3"
      },
      "outputs": [
        {
          "output_type": "execute_result",
          "data": {
            "text/plain": [
              "[('Paksitan', 0.6844918131828308),\n",
              " ('Pakistani', 0.6675876379013062),\n",
              " ('Pakistans', 0.656876802444458),\n",
              " ('Punjab', 0.6386593580245972),\n",
              " ('Bangladesh', 0.6322284936904907),\n",
              " ('Bangaldesh', 0.6305478811264038),\n",
              " ('subcontinent', 0.6264805793762207),\n",
              " ('Paksitani', 0.6201193332672119),\n",
              " ('Indo_Pak', 0.6173571944236755),\n",
              " ('Pakitan', 0.6144977807998657)]"
            ]
          },
          "metadata": {},
          "execution_count": 18
        }
      ],
      "source": [
        "kv.most_similar(positive=['Pakistan','India'], negative=['China'])"
      ]
    },
    {
      "cell_type": "code",
      "execution_count": null,
      "metadata": {
        "id": "qcVePEMCWWHi"
      },
      "outputs": [],
      "source": [
        "from gensim.models import Word2Vec"
      ]
    },
    {
      "cell_type": "code",
      "execution_count": null,
      "metadata": {
        "id": "v_JQxjxkROeb"
      },
      "outputs": [],
      "source": [
        "sentences = [[\"I\", \"am\", \"trying\", \"to\", \"understand\", \"Natural\", \"Language\", \"Processing\"],\n",
        "             [\"Natural\", \"Language\", \"Processing\", \"is\", \"fun\", \"to\", \"learn\"],\n",
        "             [\"There\", \"are\", \"numerous\", \"use\", \"cases\", \"of\", \"Natural\", \"Language\", \"Processing\"]]"
      ]
    },
    {
      "cell_type": "code",
      "execution_count": null,
      "metadata": {
        "colab": {
          "base_uri": "https://localhost:8080/"
        },
        "id": "VVwbynTnWqMj",
        "outputId": "58b49dd4-4b42-4145-ee2f-998acebb820f"
      },
      "outputs": [
        {
          "output_type": "stream",
          "name": "stderr",
          "text": [
            "WARNING:gensim.models.base_any2vec:under 10 jobs per worker: consider setting a smaller `batch_words' for smoother alpha decay\n"
          ]
        }
      ],
      "source": [
        "model = Word2Vec(sentences,min_count=2)"
      ]
    },
    {
      "cell_type": "code",
      "execution_count": null,
      "metadata": {
        "id": "Ob6OMfg8XttJ"
      },
      "outputs": [],
      "source": [
        "md = model.wv.vocab"
      ]
    },
    {
      "cell_type": "code",
      "execution_count": null,
      "metadata": {
        "colab": {
          "base_uri": "https://localhost:8080/"
        },
        "id": "X4fpBLa0X9G_",
        "outputId": "3a3c5ec7-dfba-49c4-e998-26ec51bba35a"
      },
      "outputs": [
        {
          "output_type": "stream",
          "name": "stdout",
          "text": [
            "4\n"
          ]
        }
      ],
      "source": [
        "print(len(md))"
      ]
    },
    {
      "cell_type": "code",
      "execution_count": null,
      "metadata": {
        "colab": {
          "base_uri": "https://localhost:8080/"
        },
        "id": "2Ls324LAXLsz",
        "outputId": "03fa16f9-7a96-4b46-dcdb-fae07cab92fa"
      },
      "outputs": [
        {
          "output_type": "execute_result",
          "data": {
            "text/plain": [
              "100"
            ]
          },
          "metadata": {},
          "execution_count": 24
        }
      ],
      "source": [
        "model.vector_size"
      ]
    },
    {
      "cell_type": "code",
      "execution_count": null,
      "metadata": {
        "colab": {
          "base_uri": "https://localhost:8080/"
        },
        "id": "RygayulHXLvc",
        "outputId": "acbef2b9-1377-4a73-d5bb-0519d3b5feeb"
      },
      "outputs": [
        {
          "output_type": "stream",
          "name": "stderr",
          "text": [
            "<ipython-input-26-37086b1520eb>:1: DeprecationWarning: Call to deprecated `most_similar` (Method will be removed in 4.0.0, use self.wv.most_similar() instead).\n",
            "  model.most_similar('Natural')\n"
          ]
        },
        {
          "output_type": "execute_result",
          "data": {
            "text/plain": [
              "[('Processing', 0.09231899678707123),\n",
              " ('Language', 0.03554624691605568),\n",
              " ('to', -0.09803260117769241)]"
            ]
          },
          "metadata": {},
          "execution_count": 26
        }
      ],
      "source": [
        "model.most_similar('Natural')"
      ]
    },
    {
      "cell_type": "code",
      "execution_count": null,
      "metadata": {
        "colab": {
          "base_uri": "https://localhost:8080/"
        },
        "id": "DIreuzHxZNaQ",
        "outputId": "47a19f44-e0bb-48eb-c1ac-85a94537608d"
      },
      "outputs": [
        {
          "output_type": "stream",
          "name": "stderr",
          "text": [
            "<ipython-input-27-fc1a57a1a98b>:1: DeprecationWarning: Call to deprecated `most_similar` (Method will be removed in 4.0.0, use self.wv.most_similar() instead).\n",
            "  model.most_similar(positive=['Natural','Language'], negative=['Processing'])\n"
          ]
        },
        {
          "output_type": "execute_result",
          "data": {
            "text/plain": [
              "[('to', -0.07377154380083084)]"
            ]
          },
          "metadata": {},
          "execution_count": 27
        }
      ],
      "source": [
        "model.most_similar(positive=['Natural','Language'], negative=['Processing'])"
      ]
    },
    {
      "cell_type": "code",
      "execution_count": null,
      "metadata": {
        "colab": {
          "base_uri": "https://localhost:8080/"
        },
        "id": "SkYZe3JSZNdL",
        "outputId": "d7295968-10ad-4233-e4da-6380dca55fd4"
      },
      "outputs": [
        {
          "output_type": "stream",
          "name": "stderr",
          "text": [
            "WARNING:gensim.models.base_any2vec:under 10 jobs per worker: consider setting a smaller `batch_words' for smoother alpha decay\n"
          ]
        }
      ],
      "source": [
        "model = Word2Vec(sentences,min_count=2,size=100,sg=1,workers=2)"
      ]
    },
    {
      "cell_type": "code",
      "execution_count": null,
      "metadata": {
        "colab": {
          "base_uri": "https://localhost:8080/"
        },
        "id": "nXzmLnobbfCv",
        "outputId": "4d469fc9-7c60-4866-f8c0-c0005ef64b0a"
      },
      "outputs": [
        {
          "output_type": "execute_result",
          "data": {
            "text/plain": [
              "{'to': <gensim.models.keyedvectors.Vocab at 0x7f37458211c0>,\n",
              " 'Natural': <gensim.models.keyedvectors.Vocab at 0x7f3745821a90>,\n",
              " 'Language': <gensim.models.keyedvectors.Vocab at 0x7f3745815610>,\n",
              " 'Processing': <gensim.models.keyedvectors.Vocab at 0x7f3745815550>}"
            ]
          },
          "metadata": {},
          "execution_count": 29
        }
      ],
      "source": [
        "model.wv.vocab"
      ]
    }
  ],
  "metadata": {
    "colab": {
      "provenance": []
    },
    "kernelspec": {
      "display_name": "Python 3",
      "name": "python3"
    },
    "language_info": {
      "name": "python"
    }
  },
  "nbformat": 4,
  "nbformat_minor": 0
}