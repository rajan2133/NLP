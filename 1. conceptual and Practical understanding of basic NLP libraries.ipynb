{
  "nbformat": 4,
  "nbformat_minor": 0,
  "metadata": {
    "colab": {
      "provenance": []
    },
    "kernelspec": {
      "name": "python3",
      "display_name": "Python 3"
    },
    "language_info": {
      "name": "python"
    }
  },
  "cells": [
    {
      "cell_type": "markdown",
      "source": [
        "## Perform conceptual and practical understanding of basic NLP libraries."
      ],
      "metadata": {
        "id": "hoBwP65TMhfm"
      }
    },
    {
      "cell_type": "markdown",
      "source": [
        "## CountVectorizer"
      ],
      "metadata": {
        "id": "qKKCdpz7NT7X"
      }
    },
    {
      "cell_type": "code",
      "execution_count": null,
      "metadata": {
        "colab": {
          "base_uri": "https://localhost:8080/"
        },
        "id": "_1hfiyEO7Q7P",
        "outputId": "2117ab80-359c-49c2-d386-8f0f726c7840"
      },
      "outputs": [
        {
          "output_type": "execute_result",
          "data": {
            "text/plain": [
              "matrix([[1, 1, 1, 2, 1, 1, 1]])"
            ]
          },
          "metadata": {},
          "execution_count": 80
        }
      ],
      "source": [
        "stmt = [\"I am a guni student, welcome back to guni family.\"]\n",
        "from sklearn.feature_extraction.text import CountVectorizer\n",
        "vec = CountVectorizer()\n",
        "\n",
        "vec.fit_transform(stmt).todense()"
      ]
    },
    {
      "cell_type": "code",
      "source": [
        "stmt = [\"I am a guni student, welcome back to guni family,\"]\n",
        "from sklearn.feature_extraction.text import CountVectorizer\n",
        "vec = CountVectorizer(stop_words=\"english\")\n",
        "\n",
        "vec.fit_transform(stmt).todense()"
      ],
      "metadata": {
        "colab": {
          "base_uri": "https://localhost:8080/"
        },
        "id": "65WrGN3r8xWh",
        "outputId": "29554f82-a022-41d6-ec87-7d4d134bd164"
      },
      "execution_count": null,
      "outputs": [
        {
          "output_type": "execute_result",
          "data": {
            "text/plain": [
              "matrix([[1, 2, 1, 1]])"
            ]
          },
          "metadata": {},
          "execution_count": 81
        }
      ]
    },
    {
      "cell_type": "code",
      "source": [
        "stmt = [\"How are you? I am a guni student, welcome back to guni fmaily,\"]\n",
        "from sklearn.feature_extraction.text import CountVectorizer\n",
        "vec = CountVectorizer(stop_words=\"english\")\n",
        "\n",
        "vec.fit_transform(stmt).todense()"
      ],
      "metadata": {
        "colab": {
          "base_uri": "https://localhost:8080/"
        },
        "id": "Y3CVHzLD_H-F",
        "outputId": "0297d93f-069c-46c2-a9d5-81381c5154b9"
      },
      "execution_count": null,
      "outputs": [
        {
          "output_type": "execute_result",
          "data": {
            "text/plain": [
              "matrix([[1, 2, 1, 1]])"
            ]
          },
          "metadata": {},
          "execution_count": 82
        }
      ]
    },
    {
      "cell_type": "markdown",
      "source": [
        "## NLTK: Natural Language Toolkit"
      ],
      "metadata": {
        "id": "Jop2y5XpABay"
      }
    },
    {
      "cell_type": "code",
      "source": [
        "import nltk\n",
        "nltk.download('punkt')\n",
        "stmt = 'How are you? I am a guni student, welcome back to guni fmaily.'\n",
        "from nltk.tokenize import word_tokenize\n",
        "word_tokenize(stmt)"
      ],
      "metadata": {
        "colab": {
          "base_uri": "https://localhost:8080/"
        },
        "id": "IuG_gE9S_-OB",
        "outputId": "4b7bfbb6-7025-4909-bd84-fab95494337a"
      },
      "execution_count": null,
      "outputs": [
        {
          "output_type": "stream",
          "name": "stderr",
          "text": [
            "[nltk_data] Downloading package punkt to /root/nltk_data...\n",
            "[nltk_data]   Package punkt is already up-to-date!\n"
          ]
        },
        {
          "output_type": "execute_result",
          "data": {
            "text/plain": [
              "['How',\n",
              " 'are',\n",
              " 'you',\n",
              " '?',\n",
              " 'I',\n",
              " 'am',\n",
              " 'a',\n",
              " 'guni',\n",
              " 'student',\n",
              " ',',\n",
              " 'welcome',\n",
              " 'back',\n",
              " 'to',\n",
              " 'guni',\n",
              " 'fmaily',\n",
              " '.']"
            ]
          },
          "metadata": {},
          "execution_count": 83
        }
      ]
    },
    {
      "cell_type": "code",
      "source": [
        "nltk.download('stopwords')\n",
        "sw=nltk.corpus.stopwords.words('english')\n",
        "print(len(sw))\n",
        "stm1 = 'My name is Rajan, i am guni student'\n",
        "token1 = word_tokenize(stm1)\n",
        "token1"
      ],
      "metadata": {
        "colab": {
          "base_uri": "https://localhost:8080/"
        },
        "id": "oKpkQQ5lCGZ4",
        "outputId": "c3e63bfd-6075-4919-fffd-21cc4e6f5751"
      },
      "execution_count": null,
      "outputs": [
        {
          "output_type": "stream",
          "name": "stdout",
          "text": [
            "179\n"
          ]
        },
        {
          "output_type": "stream",
          "name": "stderr",
          "text": [
            "[nltk_data] Downloading package stopwords to /root/nltk_data...\n",
            "[nltk_data]   Package stopwords is already up-to-date!\n"
          ]
        },
        {
          "output_type": "execute_result",
          "data": {
            "text/plain": [
              "['My', 'name', 'is', 'Rajan', ',', 'i', 'am', 'guni', 'student']"
            ]
          },
          "metadata": {},
          "execution_count": 84
        }
      ]
    },
    {
      "cell_type": "code",
      "source": [
        "token2 = [i for i in token1 if i.lower() not in sw]\n",
        "for i in token1:\n",
        "  if i.lower() not in sw:\n",
        "    token2.append(i)\n",
        "token2"
      ],
      "metadata": {
        "id": "6QWsVHauFay9",
        "colab": {
          "base_uri": "https://localhost:8080/"
        },
        "outputId": "a44bc8ec-2164-4abe-c1a4-a8a4384e8e93"
      },
      "execution_count": null,
      "outputs": [
        {
          "output_type": "execute_result",
          "data": {
            "text/plain": [
              "['name',\n",
              " 'Rajan',\n",
              " ',',\n",
              " 'guni',\n",
              " 'student',\n",
              " 'name',\n",
              " 'Rajan',\n",
              " ',',\n",
              " 'guni',\n",
              " 'student']"
            ]
          },
          "metadata": {},
          "execution_count": 85
        }
      ]
    },
    {
      "cell_type": "markdown",
      "source": [
        "# wordnet"
      ],
      "metadata": {
        "id": "2SvWGbVwHkoa"
      }
    },
    {
      "cell_type": "code",
      "source": [
        "nltk.download(\"wordnet\")\n",
        "from nltk.stem import WordNetLemmatizer\n",
        "nltk.download('omw-1.4')\n",
        "wn = WordNetLemmatizer()\n",
        "stm = \"running enjoyiing humanes enjoyed compppputering needing tokening dogs churches aardwolves\"\n",
        "tokens = word_tokenize(stm)\n",
        "print(tokens)\n",
        "token3 = [wn.lemmatize(i) for i in tokens ]\n",
        "token3"
      ],
      "metadata": {
        "colab": {
          "base_uri": "https://localhost:8080/"
        },
        "id": "5WUg0Qx-Hjrj",
        "outputId": "be0d344b-de91-4d8a-b405-619fa4cc103e"
      },
      "execution_count": null,
      "outputs": [
        {
          "output_type": "stream",
          "name": "stdout",
          "text": [
            "['running', 'enjoyiing', 'humanes', 'enjoyed', 'compppputering', 'needing', 'tokening', 'dogs', 'churches', 'aardwolves']\n"
          ]
        },
        {
          "output_type": "stream",
          "name": "stderr",
          "text": [
            "[nltk_data] Downloading package wordnet to /root/nltk_data...\n",
            "[nltk_data]   Package wordnet is already up-to-date!\n",
            "[nltk_data] Downloading package omw-1.4 to /root/nltk_data...\n",
            "[nltk_data]   Package omw-1.4 is already up-to-date!\n"
          ]
        },
        {
          "output_type": "execute_result",
          "data": {
            "text/plain": [
              "['running',\n",
              " 'enjoyiing',\n",
              " 'humanes',\n",
              " 'enjoyed',\n",
              " 'compppputering',\n",
              " 'needing',\n",
              " 'tokening',\n",
              " 'dog',\n",
              " 'church',\n",
              " 'aardwolf']"
            ]
          },
          "metadata": {},
          "execution_count": 86
        }
      ]
    },
    {
      "cell_type": "markdown",
      "source": [
        "## Stemming words with NLTK"
      ],
      "metadata": {
        "id": "WiUQijKgxo6n"
      }
    },
    {
      "cell_type": "code",
      "source": [
        "from nltk.stem import PorterStemmer\n",
        "from nltk.tokenize import word_tokenize\n",
        "ps = PorterStemmer()\n",
        "stm = \"running boxes enjoying humans programming enjoyed going dogs\"\n",
        "tokens = word_tokenize(stm)\n",
        "print(tokens)\n",
        "a1 = [ps.stem(i) for i in tokens ]\n",
        "a1"
      ],
      "metadata": {
        "colab": {
          "base_uri": "https://localhost:8080/"
        },
        "id": "bbCEscw8xoRk",
        "outputId": "4a763e9e-1d92-49f8-da4a-f8c036ee7b8e"
      },
      "execution_count": null,
      "outputs": [
        {
          "output_type": "stream",
          "name": "stdout",
          "text": [
            "['running', 'boxes', 'enjoying', 'humans', 'programming', 'enjoyed', 'going', 'dogs']\n"
          ]
        },
        {
          "output_type": "execute_result",
          "data": {
            "text/plain": [
              "['run', 'box', 'enjoy', 'human', 'program', 'enjoy', 'go', 'dog']"
            ]
          },
          "metadata": {},
          "execution_count": 87
        }
      ]
    },
    {
      "cell_type": "markdown",
      "source": [
        "## POS (Part-of-speech tagging)"
      ],
      "metadata": {
        "id": "jqKSx1gA22m8"
      }
    },
    {
      "cell_type": "code",
      "source": [
        "nltk.download('averaged_perceptron_tagger')\n",
        "nltk.pos_tag(['beautiful'])"
      ],
      "metadata": {
        "colab": {
          "base_uri": "https://localhost:8080/"
        },
        "id": "bcqs8HwHMIEf",
        "outputId": "c91463db-83e8-46e3-c3dc-f5d5f20f4a83"
      },
      "execution_count": null,
      "outputs": [
        {
          "output_type": "stream",
          "name": "stderr",
          "text": [
            "[nltk_data] Downloading package averaged_perceptron_tagger to\n",
            "[nltk_data]     /root/nltk_data...\n",
            "[nltk_data]   Package averaged_perceptron_tagger is already up-to-\n",
            "[nltk_data]       date!\n"
          ]
        },
        {
          "output_type": "execute_result",
          "data": {
            "text/plain": [
              "[('beautiful', 'NN')]"
            ]
          },
          "metadata": {},
          "execution_count": 88
        }
      ]
    },
    {
      "cell_type": "code",
      "source": [
        "from nltk.tokenize import word_tokenize\n",
        "text = word_tokenize(\"Hello welcome to the NLP lab.\")\n",
        "nltk.pos_tag(text)"
      ],
      "metadata": {
        "colab": {
          "base_uri": "https://localhost:8080/"
        },
        "id": "r0Vq0K2OOFbL",
        "outputId": "b79f5036-ea21-4415-c841-3d1bb7f0a1fb"
      },
      "execution_count": null,
      "outputs": [
        {
          "output_type": "execute_result",
          "data": {
            "text/plain": [
              "[('Hello', 'NNP'),\n",
              " ('welcome', 'NN'),\n",
              " ('to', 'TO'),\n",
              " ('the', 'DT'),\n",
              " ('NLP', 'NNP'),\n",
              " ('lab', 'NN'),\n",
              " ('.', '.')]"
            ]
          },
          "metadata": {},
          "execution_count": 89
        }
      ]
    },
    {
      "cell_type": "markdown",
      "source": [
        "## Sentiment Analysis using TextBlob"
      ],
      "metadata": {
        "id": "W0En_jue9S4i"
      }
    },
    {
      "cell_type": "code",
      "source": [
        "from textblob import TextBlob\n",
        "data = TextBlob(\"I love to play Cricket\")\n",
        "data.sentiment"
      ],
      "metadata": {
        "id": "8bX4HrFW9ULu",
        "colab": {
          "base_uri": "https://localhost:8080/"
        },
        "outputId": "9ac08570-9eff-4728-cc03-6dce5d192d33"
      },
      "execution_count": null,
      "outputs": [
        {
          "output_type": "execute_result",
          "data": {
            "text/plain": [
              "Sentiment(polarity=0.5, subjectivity=0.6)"
            ]
          },
          "metadata": {},
          "execution_count": 90
        }
      ]
    },
    {
      "cell_type": "code",
      "source": [
        "data1 = TextBlob(\"Weather is cloudy\")\n",
        "data1.sentiment"
      ],
      "metadata": {
        "id": "YHZHfQS2_xLT",
        "colab": {
          "base_uri": "https://localhost:8080/"
        },
        "outputId": "0c6a2535-ab39-407d-a473-e4c6ffbb0f1b"
      },
      "execution_count": null,
      "outputs": [
        {
          "output_type": "execute_result",
          "data": {
            "text/plain": [
              "Sentiment(polarity=0.0, subjectivity=0.0)"
            ]
          },
          "metadata": {},
          "execution_count": 92
        }
      ]
    },
    {
      "cell_type": "code",
      "source": [
        "Word_token = TextBlob(\"Today I am very happy\")\n",
        "Word_token.words"
      ],
      "metadata": {
        "colab": {
          "base_uri": "https://localhost:8080/"
        },
        "id": "tIQHG8TS-o0t",
        "outputId": "4637c386-84e0-4faf-d943-2b04a59ec330"
      },
      "execution_count": null,
      "outputs": [
        {
          "output_type": "execute_result",
          "data": {
            "text/plain": [
              "WordList(['Today', 'I', 'am', 'very', 'happy'])"
            ]
          },
          "metadata": {},
          "execution_count": 91
        }
      ]
    }
  ]
}